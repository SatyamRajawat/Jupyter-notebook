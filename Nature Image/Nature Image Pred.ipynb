{
 "cells": [
  {
   "cell_type": "markdown",
   "metadata": {},
   "source": [
    "# Intel Image Classification\n",
    "dataset :: https://www.kaggle.com/puneet6060/intel-image-classification\n",
    "\n",
    "### Categaries: \n",
    "##### 'buildings' -> 0,\n",
    "##### 'forest'    -> 1,\n",
    "##### 'glacier'   -> 2,\n",
    "##### 'mountain'  -> 3,\n",
    "##### 'sea'       -> 4,\n",
    "##### 'street'    -> 5\n",
    "\n"
   ]
  },
  {
   "cell_type": "markdown",
   "metadata": {},
   "source": [
    "# Load Dataset "
   ]
  },
  {
   "cell_type": "code",
   "execution_count": 3,
   "metadata": {},
   "outputs": [],
   "source": [
    "\n",
    "data_dir = 'D:\\\\Images\\\\ds1\\\\intel-image-classification\\\\seg_train'"
   ]
  },
  {
   "cell_type": "markdown",
   "metadata": {},
   "source": [
    "Import Autokeras required libraries for training model"
   ]
  },
  {
   "cell_type": "code",
   "execution_count": 4,
   "metadata": {},
   "outputs": [],
   "source": [
    "import autokeras as ak\n",
    "import tensorflow as tf\n",
    "import os"
   ]
  },
  {
   "cell_type": "markdown",
   "metadata": {},
   "source": [
    "# Preprocessing Dataset "
   ]
  },
  {
   "cell_type": "code",
   "execution_count": 16,
   "metadata": {},
   "outputs": [
    {
     "name": "stdout",
     "output_type": "stream",
     "text": [
      "Found 17034 files belonging to 6 classes.\n",
      "Using 13628 files for training.\n",
      "Found 17034 files belonging to 6 classes.\n",
      "Using 3406 files for validation.\n"
     ]
    }
   ],
   "source": [
    "batch_size = 64\n",
    "img_height = 180\n",
    "img_width = 180\n",
    "\n",
    "train_data = ak.image_dataset_from_directory(\n",
    "    data_dir,\n",
    "    # Use 20% data as testing data.\n",
    "    validation_split=0.2,\n",
    "    subset=\"training\",\n",
    "    # Set seed to ensure the same split when loading testing data.\n",
    "    seed=123,\n",
    "    image_size=(img_height, img_width),\n",
    "    batch_size=batch_size)\n",
    "\n",
    "test_data = ak.image_dataset_from_directory(\n",
    "    data_dir,\n",
    "    validation_split=0.2,\n",
    "    subset=\"validation\",\n",
    "    seed=123,\n",
    "    image_size=(img_height, img_width),\n",
    "    batch_size=batch_size)"
   ]
  },
  {
   "cell_type": "markdown",
   "metadata": {},
   "source": [
    "Creating checkpoint for Saving best model in training time"
   ]
  },
  {
   "cell_type": "code",
   "execution_count": 17,
   "metadata": {},
   "outputs": [],
   "source": [
    "from keras.callbacks import ModelCheckpoint\n",
    "model_path = 'intel_model.h5'\n",
    "checkpoint = ModelCheckpoint(model_path, monitor='val_accuracy', verbose=1, save_best_only=True, mode='max')\n",
    "callbacks_list = [checkpoint]"
   ]
  },
  {
   "cell_type": "markdown",
   "metadata": {},
   "source": [
    "# Creating Classifier and fitting data in classifier"
   ]
  },
  {
   "cell_type": "code",
   "execution_count": 18,
   "metadata": {},
   "outputs": [],
   "source": [
    "clf = ak.ImageClassifier(overwrite=True, max_trials=1)"
   ]
  },
  {
   "cell_type": "code",
   "execution_count": 19,
   "metadata": {},
   "outputs": [
    {
     "name": "stdout",
     "output_type": "stream",
     "text": [
      "Trial 1 Complete [02h 23m 28s]\n",
      "val_loss: 0.8120232820510864\n",
      "\n",
      "Best val_loss So Far: 0.8120232820510864\n",
      "Total elapsed time: 02h 23m 28s\n",
      "INFO:tensorflow:Oracle triggered exit\n",
      "Epoch 1/30\n",
      "213/213 [==============================] - ETA: 0s - loss: 1.7460 - accuracy: 0.5896WARNING:tensorflow:Can save best model only with val_accuracy available, skipping.\n",
      "213/213 [==============================] - 850s 4s/step - loss: 1.7460 - accuracy: 0.5896\n",
      "Epoch 2/30\n",
      "213/213 [==============================] - ETA: 0s - loss: 0.6749 - accuracy: 0.7635WARNING:tensorflow:Can save best model only with val_accuracy available, skipping.\n",
      "213/213 [==============================] - 794s 4s/step - loss: 0.6749 - accuracy: 0.7635\n",
      "Epoch 3/30\n",
      "213/213 [==============================] - ETA: 0s - loss: 0.4506 - accuracy: 0.8418WARNING:tensorflow:Can save best model only with val_accuracy available, skipping.\n",
      "213/213 [==============================] - 791s 4s/step - loss: 0.4506 - accuracy: 0.8418\n",
      "Epoch 4/30\n",
      "213/213 [==============================] - ETA: 0s - loss: 0.3111 - accuracy: 0.8929WARNING:tensorflow:Can save best model only with val_accuracy available, skipping.\n",
      "213/213 [==============================] - 791s 4s/step - loss: 0.3111 - accuracy: 0.8929\n",
      "Epoch 5/30\n",
      "213/213 [==============================] - ETA: 0s - loss: 0.2575 - accuracy: 0.9132WARNING:tensorflow:Can save best model only with val_accuracy available, skipping.\n",
      "213/213 [==============================] - 796s 4s/step - loss: 0.2575 - accuracy: 0.9132\n",
      "Epoch 6/30\n",
      "213/213 [==============================] - ETA: 0s - loss: 0.1986 - accuracy: 0.9352  WARNING:tensorflow:Can save best model only with val_accuracy available, skipping.\n",
      "213/213 [==============================] - 26964s 127s/step - loss: 0.1986 - accuracy: 0.9352\n",
      "Epoch 7/30\n",
      "213/213 [==============================] - ETA: 0s - loss: 0.1484 - accuracy: 0.9503 WARNING:tensorflow:Can save best model only with val_accuracy available, skipping.\n",
      "213/213 [==============================] - 4215s 20s/step - loss: 0.1484 - accuracy: 0.9503\n",
      "Epoch 8/30\n",
      "213/213 [==============================] - ETA: 0s - loss: 0.1079 - accuracy: 0.9649WARNING:tensorflow:Can save best model only with val_accuracy available, skipping.\n",
      "213/213 [==============================] - 770s 4s/step - loss: 0.1079 - accuracy: 0.9649\n",
      "Epoch 9/30\n",
      "213/213 [==============================] - ETA: 0s - loss: 0.1034 - accuracy: 0.9665WARNING:tensorflow:Can save best model only with val_accuracy available, skipping.\n",
      "213/213 [==============================] - 777s 4s/step - loss: 0.1034 - accuracy: 0.9665\n",
      "Epoch 10/30\n",
      "213/213 [==============================] - ETA: 0s - loss: 0.0907 - accuracy: 0.9699WARNING:tensorflow:Can save best model only with val_accuracy available, skipping.\n",
      "213/213 [==============================] - 786s 4s/step - loss: 0.0907 - accuracy: 0.9699\n",
      "Epoch 11/30\n",
      "213/213 [==============================] - ETA: 0s - loss: 0.0911 - accuracy: 0.9732WARNING:tensorflow:Can save best model only with val_accuracy available, skipping.\n",
      "213/213 [==============================] - 788s 4s/step - loss: 0.0911 - accuracy: 0.9732\n",
      "Epoch 12/30\n",
      "213/213 [==============================] - ETA: 0s - loss: 0.0851 - accuracy: 0.9747WARNING:tensorflow:Can save best model only with val_accuracy available, skipping.\n",
      "213/213 [==============================] - 785s 4s/step - loss: 0.0851 - accuracy: 0.9747\n",
      "Epoch 13/30\n",
      "213/213 [==============================] - ETA: 0s - loss: 0.0688 - accuracy: 0.9794WARNING:tensorflow:Can save best model only with val_accuracy available, skipping.\n",
      "213/213 [==============================] - 785s 4s/step - loss: 0.0688 - accuracy: 0.9794\n",
      "Epoch 14/30\n",
      "213/213 [==============================] - ETA: 0s - loss: 0.0708 - accuracy: 0.9805WARNING:tensorflow:Can save best model only with val_accuracy available, skipping.\n",
      "213/213 [==============================] - 787s 4s/step - loss: 0.0708 - accuracy: 0.9805\n",
      "Epoch 15/30\n",
      "213/213 [==============================] - ETA: 0s - loss: 0.0668 - accuracy: 0.9802WARNING:tensorflow:Can save best model only with val_accuracy available, skipping.\n",
      "213/213 [==============================] - 783s 4s/step - loss: 0.0668 - accuracy: 0.9802\n",
      "Epoch 16/30\n",
      "213/213 [==============================] - ETA: 0s - loss: 0.0657 - accuracy: 0.9806WARNING:tensorflow:Can save best model only with val_accuracy available, skipping.\n",
      "213/213 [==============================] - 785s 4s/step - loss: 0.0657 - accuracy: 0.9806\n",
      "Epoch 17/30\n",
      "213/213 [==============================] - ETA: 0s - loss: 0.0633 - accuracy: 0.9839WARNING:tensorflow:Can save best model only with val_accuracy available, skipping.\n",
      "213/213 [==============================] - 776s 4s/step - loss: 0.0633 - accuracy: 0.9839\n",
      "Epoch 18/30\n",
      "213/213 [==============================] - ETA: 0s - loss: 0.0697 - accuracy: 0.9792WARNING:tensorflow:Can save best model only with val_accuracy available, skipping.\n",
      "213/213 [==============================] - 770s 4s/step - loss: 0.0697 - accuracy: 0.9792\n",
      "Epoch 19/30\n",
      "213/213 [==============================] - ETA: 0s - loss: 0.0634 - accuracy: 0.9836WARNING:tensorflow:Can save best model only with val_accuracy available, skipping.\n",
      "213/213 [==============================] - 771s 4s/step - loss: 0.0634 - accuracy: 0.9836\n",
      "Epoch 20/30\n",
      "213/213 [==============================] - ETA: 0s - loss: 0.0581 - accuracy: 0.9844WARNING:tensorflow:Can save best model only with val_accuracy available, skipping.\n",
      "213/213 [==============================] - 783s 4s/step - loss: 0.0581 - accuracy: 0.9844\n",
      "Epoch 21/30\n",
      "213/213 [==============================] - ETA: 0s - loss: 0.0527 - accuracy: 0.9858WARNING:tensorflow:Can save best model only with val_accuracy available, skipping.\n",
      "213/213 [==============================] - 794s 4s/step - loss: 0.0527 - accuracy: 0.9858\n",
      "Epoch 22/30\n",
      "213/213 [==============================] - ETA: 0s - loss: 0.0652 - accuracy: 0.9823WARNING:tensorflow:Can save best model only with val_accuracy available, skipping.\n",
      "213/213 [==============================] - 836s 4s/step - loss: 0.0652 - accuracy: 0.9823\n",
      "Epoch 23/30\n",
      "213/213 [==============================] - ETA: 0s - loss: 0.0583 - accuracy: 0.9839WARNING:tensorflow:Can save best model only with val_accuracy available, skipping.\n",
      "213/213 [==============================] - 789s 4s/step - loss: 0.0583 - accuracy: 0.9839\n",
      "Epoch 24/30\n",
      "213/213 [==============================] - ETA: 0s - loss: 0.0645 - accuracy: 0.9824WARNING:tensorflow:Can save best model only with val_accuracy available, skipping.\n",
      "213/213 [==============================] - 785s 4s/step - loss: 0.0645 - accuracy: 0.9824\n",
      "Epoch 25/30\n",
      "213/213 [==============================] - ETA: 0s - loss: 0.0629 - accuracy: 0.9837WARNING:tensorflow:Can save best model only with val_accuracy available, skipping.\n",
      "213/213 [==============================] - 784s 4s/step - loss: 0.0629 - accuracy: 0.9837\n",
      "Epoch 26/30\n",
      "213/213 [==============================] - ETA: 0s - loss: 0.0545 - accuracy: 0.9844WARNING:tensorflow:Can save best model only with val_accuracy available, skipping.\n",
      "213/213 [==============================] - 781s 4s/step - loss: 0.0545 - accuracy: 0.9844\n",
      "Epoch 27/30\n",
      "213/213 [==============================] - ETA: 0s - loss: 0.0653 - accuracy: 0.9825WARNING:tensorflow:Can save best model only with val_accuracy available, skipping.\n",
      "213/213 [==============================] - 783s 4s/step - loss: 0.0653 - accuracy: 0.9825\n",
      "Epoch 28/30\n",
      "213/213 [==============================] - ETA: 0s - loss: 0.0577 - accuracy: 0.9845WARNING:tensorflow:Can save best model only with val_accuracy available, skipping.\n",
      "213/213 [==============================] - 782s 4s/step - loss: 0.0577 - accuracy: 0.9845\n",
      "Epoch 29/30\n",
      "213/213 [==============================] - ETA: 0s - loss: 0.0524 - accuracy: 0.9863WARNING:tensorflow:Can save best model only with val_accuracy available, skipping.\n",
      "213/213 [==============================] - 784s 4s/step - loss: 0.0524 - accuracy: 0.9863\n",
      "Epoch 30/30\n",
      "213/213 [==============================] - ETA: 0s - loss: 0.0571 - accuracy: 0.9856WARNING:tensorflow:Can save best model only with val_accuracy available, skipping.\n",
      "213/213 [==============================] - 783s 4s/step - loss: 0.0571 - accuracy: 0.9856\n",
      "WARNING:tensorflow:From C:\\Users\\satyam.singh\\anaconda3\\envs\\keras\\lib\\site-packages\\tensorflow\\python\\training\\tracking\\tracking.py:111: Model.state_updates (from tensorflow.python.keras.engine.training) is deprecated and will be removed in a future version.\n",
      "Instructions for updating:\n",
      "This property should not be used in TensorFlow 2.0, as updates are applied automatically.\n",
      "WARNING:tensorflow:From C:\\Users\\satyam.singh\\anaconda3\\envs\\keras\\lib\\site-packages\\tensorflow\\python\\training\\tracking\\tracking.py:111: Layer.updates (from tensorflow.python.keras.engine.base_layer) is deprecated and will be removed in a future version.\n",
      "Instructions for updating:\n",
      "This property should not be used in TensorFlow 2.0, as updates are applied automatically.\n",
      "INFO:tensorflow:Assets written to: .\\image_classifier\\best_model\\assets\n"
     ]
    }
   ],
   "source": [
    "clf.fit(train_data, epochs=30,callbacks=callbacks_list)"
   ]
  },
  {
   "cell_type": "markdown",
   "metadata": {},
   "source": [
    "# Evaluating the accuracy"
   ]
  },
  {
   "cell_type": "code",
   "execution_count": 20,
   "metadata": {},
   "outputs": [
    {
     "name": "stdout",
     "output_type": "stream",
     "text": [
      "54/54 [==============================] - 68s 1s/step - loss: 1.6887 - accuracy: 0.7463\n",
      "[1.6886825561523438, 0.7463300228118896]\n"
     ]
    }
   ],
   "source": [
    "print(clf.evaluate(test_data))"
   ]
  },
  {
   "cell_type": "markdown",
   "metadata": {},
   "source": [
    "### Getting prediction result"
   ]
  },
  {
   "cell_type": "code",
   "execution_count": 23,
   "metadata": {},
   "outputs": [
    {
     "data": {
      "text/plain": [
       "array([['mountain'],\n",
       "       ['mountain'],\n",
       "       ['forest'],\n",
       "       ...,\n",
       "       ['glacier'],\n",
       "       ['buildings'],\n",
       "       ['street']], dtype='<U9')"
      ]
     },
     "execution_count": 23,
     "metadata": {},
     "output_type": "execute_result"
    }
   ],
   "source": [
    "ypred = clf.predict(test_data)\n",
    "ypred"
   ]
  },
  {
   "cell_type": "markdown",
   "metadata": {},
   "source": [
    "#### Exporting model"
   ]
  },
  {
   "cell_type": "code",
   "execution_count": 24,
   "metadata": {},
   "outputs": [],
   "source": [
    "# model = clf.export_model()\n",
    "# model.save(\"model_autokeras.h5\")"
   ]
  },
  {
   "cell_type": "code",
   "execution_count": 127,
   "metadata": {},
   "outputs": [],
   "source": [
    "# from tensorflow.keras.models import load_model\n",
    "\n",
    "# model = load_model(\"model_autokeras.h5\", custom_objects=ak.CUSTOM_OBJECTS)\n",
    "\n",
    "# predicted_y = model.predict(test_data)"
   ]
  },
  {
   "cell_type": "code",
   "execution_count": 128,
   "metadata": {},
   "outputs": [],
   "source": [
    "# predicted_categories = tf.argmax(predicted_y, axis=1)"
   ]
  },
  {
   "cell_type": "markdown",
   "metadata": {},
   "source": [
    "### getting labels from test data"
   ]
  },
  {
   "cell_type": "code",
   "execution_count": 131,
   "metadata": {},
   "outputs": [
    {
     "data": {
      "text/plain": [
       "<tf.Tensor: shape=(3406,), dtype=string, numpy=\n",
       "array([b'glacier', b'sea', b'forest', ..., b'glacier', b'street',\n",
       "       b'street'], dtype=object)>"
      ]
     },
     "execution_count": 131,
     "metadata": {},
     "output_type": "execute_result"
    }
   ],
   "source": [
    "test_categories = tf.concat([y for x, y in test_data], axis=0)\n",
    "test_categories"
   ]
  },
  {
   "cell_type": "code",
   "execution_count": 137,
   "metadata": {},
   "outputs": [
    {
     "name": "stdout",
     "output_type": "stream",
     "text": [
      "['glacier' 'sea' 'forest' ... 'glacier' 'street' 'street']\n"
     ]
    }
   ],
   "source": [
    "import numpy as np\n",
    "a = test_categories.numpy()\n",
    "y_true = np.asarray(a, dtype=str)\n",
    "print(y_true)\n"
   ]
  },
  {
   "cell_type": "markdown",
   "metadata": {},
   "source": [
    "## Getting Confusion metrix and Classification Report"
   ]
  },
  {
   "cell_type": "code",
   "execution_count": 139,
   "metadata": {},
   "outputs": [
    {
     "name": "stdout",
     "output_type": "stream",
     "text": [
      "              precision    recall  f1-score   support\n",
      "\n",
      "   buildings       0.72      0.70      0.71       537\n",
      "      forest       0.90      0.91      0.90       567\n",
      "     glacier       0.65      0.82      0.73       585\n",
      "    mountain       0.73      0.62      0.67       601\n",
      "         sea       0.80      0.64      0.71       543\n",
      "      street       0.72      0.79      0.75       573\n",
      "\n",
      "    accuracy                           0.75      3406\n",
      "   macro avg       0.75      0.75      0.75      3406\n",
      "weighted avg       0.75      0.75      0.74      3406\n",
      "\n"
     ]
    }
   ],
   "source": [
    "from sklearn.metrics import classification_report,accuracy_score,confusion_matrix\n",
    "print(classification_report(y_true, ypred))"
   ]
  },
  {
   "cell_type": "code",
   "execution_count": 141,
   "metadata": {},
   "outputs": [
    {
     "name": "stdout",
     "output_type": "stream",
     "text": [
      "[[375  14  23  13   9 103]\n",
      " [ 11 515   5   7   1  28]\n",
      " [ 11   6 479  54  24  11]\n",
      " [ 17   8 139 374  45  18]\n",
      " [ 38   3  80  57 347  18]\n",
      " [ 70  27  10   7   7 452]]\n"
     ]
    }
   ],
   "source": [
    "cm = confusion_matrix(y_true, ypred)\n",
    "print(cm)\n"
   ]
  },
  {
   "cell_type": "code",
   "execution_count": 142,
   "metadata": {},
   "outputs": [
    {
     "data": {
      "text/plain": [
       "<AxesSubplot:>"
      ]
     },
     "execution_count": 142,
     "metadata": {},
     "output_type": "execute_result"
    },
    {
     "data": {
      "image/png": "[encoded data removed]",
      "text/plain": [
       "<Figure size 432x288 with 2 Axes>"
      ]
     },
     "metadata": {
      "needs_background": "light"
     },
     "output_type": "display_data"
    }
   ],
   "source": [
    "import seaborn as sns\n",
    "sns.heatmap(cm, annot=True,)"
   ]
  },
  {
   "cell_type": "code",
   "execution_count": 143,
   "metadata": {},
   "outputs": [],
   "source": [
    "ac = accuracy_score(y_true, ypred)"
   ]
  },
  {
   "cell_type": "code",
   "execution_count": 145,
   "metadata": {},
   "outputs": [
    {
     "data": {
      "text/plain": [
       "0.7463300058719906"
      ]
     },
     "execution_count": 145,
     "metadata": {},
     "output_type": "execute_result"
    }
   ],
   "source": [
    "ac"
   ]
  },
  {
   "cell_type": "code",
   "execution_count": null,
   "metadata": {},
   "outputs": [],
   "source": []
  }
 ],
 "metadata": {
  "kernelspec": {
   "display_name": "Python 3",
   "language": "python",
   "name": "python3"
  },
  "language_info": {
   "codemirror_mode": {
    "name": "ipython",
    "version": 3
   },
   "file_extension": ".py",
   "mimetype": "text/x-python",
   "name": "python",
   "nbconvert_exporter": "python",
   "pygments_lexer": "ipython3",
   "version": "3.8.5"
  }
 },
 "nbformat": 4,
 "nbformat_minor": 4
}
