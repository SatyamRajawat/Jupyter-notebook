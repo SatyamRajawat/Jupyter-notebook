{
 "cells": [
  {
   "cell_type": "code",
   "execution_count": 1,
   "metadata": {},
   "outputs": [],
   "source": [
    "# import Library\n",
    "import pandas as pd\n",
    "import nltk"
   ]
  },
  {
   "cell_type": "code",
   "execution_count": 2,
   "metadata": {},
   "outputs": [],
   "source": [
    "# Reading Dataset  (dataset :> https://www.kaggle.com/taejun/data-analysis-sentimental-analysis)\n",
    "data = pd.read_csv('dataset/amazon.tsv',sep='\\t')"
   ]
  },
  {
   "cell_type": "code",
   "execution_count": 3,
   "metadata": {},
   "outputs": [
    {
     "data": {
      "text/html": [
       "<div>\n",
       "<style scoped>\n",
       "    .dataframe tbody tr th:only-of-type {\n",
       "        vertical-align: middle;\n",
       "    }\n",
       "\n",
       "    .dataframe tbody tr th {\n",
       "        vertical-align: top;\n",
       "    }\n",
       "\n",
       "    .dataframe thead th {\n",
       "        text-align: right;\n",
       "    }\n",
       "</style>\n",
       "<table border=\"1\" class=\"dataframe\">\n",
       "  <thead>\n",
       "    <tr style=\"text-align: right;\">\n",
       "      <th></th>\n",
       "      <th>rating</th>\n",
       "      <th>date</th>\n",
       "      <th>variation</th>\n",
       "      <th>verified_reviews</th>\n",
       "      <th>feedback</th>\n",
       "    </tr>\n",
       "  </thead>\n",
       "  <tbody>\n",
       "    <tr>\n",
       "      <th>78</th>\n",
       "      <td>5</td>\n",
       "      <td>30-Jul-18</td>\n",
       "      <td>Charcoal Fabric</td>\n",
       "      <td>I LIKE IT ALL</td>\n",
       "      <td>1</td>\n",
       "    </tr>\n",
       "    <tr>\n",
       "      <th>2189</th>\n",
       "      <td>5</td>\n",
       "      <td>30-Jul-18</td>\n",
       "      <td>Configuration: Fire TV Stick</td>\n",
       "      <td>I purchased the Fire Stick to be able to watch...</td>\n",
       "      <td>1</td>\n",
       "    </tr>\n",
       "    <tr>\n",
       "      <th>1965</th>\n",
       "      <td>5</td>\n",
       "      <td>25-Jul-18</td>\n",
       "      <td>Black  Plus</td>\n",
       "      <td>I love my echo plus!!!</td>\n",
       "      <td>1</td>\n",
       "    </tr>\n",
       "    <tr>\n",
       "      <th>2765</th>\n",
       "      <td>5</td>\n",
       "      <td>30-Jul-18</td>\n",
       "      <td>Black  Dot</td>\n",
       "      <td>I enjoy it. Still discovering new uses.</td>\n",
       "      <td>1</td>\n",
       "    </tr>\n",
       "    <tr>\n",
       "      <th>419</th>\n",
       "      <td>5</td>\n",
       "      <td>12-Jul-18</td>\n",
       "      <td>Black</td>\n",
       "      <td>This is my third Dot. They all work perfectly ...</td>\n",
       "      <td>1</td>\n",
       "    </tr>\n",
       "    <tr>\n",
       "      <th>2526</th>\n",
       "      <td>5</td>\n",
       "      <td>30-Jul-18</td>\n",
       "      <td>Black  Dot</td>\n",
       "      <td>Love my echo dot easy to use and set up</td>\n",
       "      <td>1</td>\n",
       "    </tr>\n",
       "    <tr>\n",
       "      <th>2525</th>\n",
       "      <td>1</td>\n",
       "      <td>30-Jul-18</td>\n",
       "      <td>Black  Dot</td>\n",
       "      <td></td>\n",
       "      <td>0</td>\n",
       "    </tr>\n",
       "    <tr>\n",
       "      <th>2524</th>\n",
       "      <td>5</td>\n",
       "      <td>30-Jul-18</td>\n",
       "      <td>Black  Dot</td>\n",
       "      <td>Kids love it! I love it!</td>\n",
       "      <td>1</td>\n",
       "    </tr>\n",
       "    <tr>\n",
       "      <th>742</th>\n",
       "      <td>5</td>\n",
       "      <td>30-Jul-18</td>\n",
       "      <td>Charcoal Fabric</td>\n",
       "      <td>Love my Echo. Still learning how every thing w...</td>\n",
       "      <td>1</td>\n",
       "    </tr>\n",
       "    <tr>\n",
       "      <th>1441</th>\n",
       "      <td>4</td>\n",
       "      <td>30-Jul-18</td>\n",
       "      <td>White  Show</td>\n",
       "      <td>Very excited to see what it can do</td>\n",
       "      <td>1</td>\n",
       "    </tr>\n",
       "  </tbody>\n",
       "</table>\n",
       "</div>"
      ],
      "text/plain": [
       "      rating       date                     variation  \\\n",
       "78         5  30-Jul-18              Charcoal Fabric    \n",
       "2189       5  30-Jul-18  Configuration: Fire TV Stick   \n",
       "1965       5  25-Jul-18                   Black  Plus   \n",
       "2765       5  30-Jul-18                    Black  Dot   \n",
       "419        5  12-Jul-18                         Black   \n",
       "2526       5  30-Jul-18                    Black  Dot   \n",
       "2525       1  30-Jul-18                    Black  Dot   \n",
       "2524       5  30-Jul-18                    Black  Dot   \n",
       "742        5  30-Jul-18              Charcoal Fabric    \n",
       "1441       4  30-Jul-18                   White  Show   \n",
       "\n",
       "                                       verified_reviews  feedback  \n",
       "78                                        I LIKE IT ALL         1  \n",
       "2189  I purchased the Fire Stick to be able to watch...         1  \n",
       "1965                             I love my echo plus!!!         1  \n",
       "2765            I enjoy it. Still discovering new uses.         1  \n",
       "419   This is my third Dot. They all work perfectly ...         1  \n",
       "2526            Love my echo dot easy to use and set up         1  \n",
       "2525                                                            0  \n",
       "2524                           Kids love it! I love it!         1  \n",
       "742   Love my Echo. Still learning how every thing w...         1  \n",
       "1441                 Very excited to see what it can do         1  "
      ]
     },
     "execution_count": 3,
     "metadata": {},
     "output_type": "execute_result"
    }
   ],
   "source": [
    "# data = data[['rating','date','verified_reviews']]\n",
    "data.sample(10)"
   ]
  },
  {
   "cell_type": "code",
   "execution_count": 4,
   "metadata": {},
   "outputs": [
    {
     "data": {
      "text/html": [
       "<div>\n",
       "<style scoped>\n",
       "    .dataframe tbody tr th:only-of-type {\n",
       "        vertical-align: middle;\n",
       "    }\n",
       "\n",
       "    .dataframe tbody tr th {\n",
       "        vertical-align: top;\n",
       "    }\n",
       "\n",
       "    .dataframe thead th {\n",
       "        text-align: right;\n",
       "    }\n",
       "</style>\n",
       "<table border=\"1\" class=\"dataframe\">\n",
       "  <thead>\n",
       "    <tr style=\"text-align: right;\">\n",
       "      <th></th>\n",
       "      <th>rating</th>\n",
       "      <th>date</th>\n",
       "      <th>variation</th>\n",
       "      <th>verified_reviews</th>\n",
       "      <th>feedback</th>\n",
       "      <th>clean_date</th>\n",
       "      <th>date_rating</th>\n",
       "      <th>reviews</th>\n",
       "    </tr>\n",
       "  </thead>\n",
       "  <tbody>\n",
       "    <tr>\n",
       "      <th>1531</th>\n",
       "      <td>5</td>\n",
       "      <td>2018-07-30</td>\n",
       "      <td>Black  Show</td>\n",
       "      <td>Good sound! The capacity of join different app...</td>\n",
       "      <td>1</td>\n",
       "      <td>30 7</td>\n",
       "      <td>5 30 7</td>\n",
       "      <td>Black  Show Good sound! The capacity of join d...</td>\n",
       "    </tr>\n",
       "    <tr>\n",
       "      <th>1466</th>\n",
       "      <td>5</td>\n",
       "      <td>2018-07-30</td>\n",
       "      <td>Black  Show</td>\n",
       "      <td>Easy to set up and sooooooo many things it can...</td>\n",
       "      <td>1</td>\n",
       "      <td>30 7</td>\n",
       "      <td>5 30 7</td>\n",
       "      <td>Black  Show Easy to set up and sooooooo many t...</td>\n",
       "    </tr>\n",
       "    <tr>\n",
       "      <th>2800</th>\n",
       "      <td>5</td>\n",
       "      <td>2018-07-31</td>\n",
       "      <td>Black  Dot</td>\n",
       "      <td>The echo dot was easy to set up and use. It he...</td>\n",
       "      <td>1</td>\n",
       "      <td>31 7</td>\n",
       "      <td>5 31 7</td>\n",
       "      <td>Black  Dot The echo dot was easy to set up and...</td>\n",
       "    </tr>\n",
       "    <tr>\n",
       "      <th>667</th>\n",
       "      <td>5</td>\n",
       "      <td>2018-05-23</td>\n",
       "      <td>Black</td>\n",
       "      <td>It looked brand nrw!! I have nothing to.compla...</td>\n",
       "      <td>1</td>\n",
       "      <td>23 5</td>\n",
       "      <td>5 23 5</td>\n",
       "      <td>Black It looked brand nrw!! I have nothing to....</td>\n",
       "    </tr>\n",
       "    <tr>\n",
       "      <th>1672</th>\n",
       "      <td>5</td>\n",
       "      <td>2018-07-28</td>\n",
       "      <td>Black  Show</td>\n",
       "      <td>I like the variety of stuff that the echo show...</td>\n",
       "      <td>1</td>\n",
       "      <td>28 7</td>\n",
       "      <td>5 28 7</td>\n",
       "      <td>Black  Show I like the variety of stuff that t...</td>\n",
       "    </tr>\n",
       "    <tr>\n",
       "      <th>447</th>\n",
       "      <td>5</td>\n",
       "      <td>2018-07-05</td>\n",
       "      <td>Black</td>\n",
       "      <td>Works perfect no wear and tear on the device I...</td>\n",
       "      <td>1</td>\n",
       "      <td>5 7</td>\n",
       "      <td>5 5 7</td>\n",
       "      <td>Black Works perfect no wear and tear on the de...</td>\n",
       "    </tr>\n",
       "    <tr>\n",
       "      <th>1065</th>\n",
       "      <td>5</td>\n",
       "      <td>2018-07-30</td>\n",
       "      <td>White  Spot</td>\n",
       "      <td>We absolutely love this product!!! Wish we wou...</td>\n",
       "      <td>1</td>\n",
       "      <td>30 7</td>\n",
       "      <td>5 30 7</td>\n",
       "      <td>White  Spot We absolutely love this product!!!...</td>\n",
       "    </tr>\n",
       "    <tr>\n",
       "      <th>3027</th>\n",
       "      <td>5</td>\n",
       "      <td>2018-07-30</td>\n",
       "      <td>Black  Dot</td>\n",
       "      <td>Works great.Having fun playing music,checking ...</td>\n",
       "      <td>1</td>\n",
       "      <td>30 7</td>\n",
       "      <td>5 30 7</td>\n",
       "      <td>Black  Dot Works great.Having fun playing musi...</td>\n",
       "    </tr>\n",
       "    <tr>\n",
       "      <th>1861</th>\n",
       "      <td>5</td>\n",
       "      <td>2018-07-28</td>\n",
       "      <td>White  Plus</td>\n",
       "      <td>Easy to set up and works like it's supposed to.</td>\n",
       "      <td>1</td>\n",
       "      <td>28 7</td>\n",
       "      <td>5 28 7</td>\n",
       "      <td>White  Plus Easy to set up and works like it's...</td>\n",
       "    </tr>\n",
       "    <tr>\n",
       "      <th>10</th>\n",
       "      <td>5</td>\n",
       "      <td>2018-07-30</td>\n",
       "      <td>Charcoal Fabric</td>\n",
       "      <td>I sent it to my 85 year old Dad, and he talks ...</td>\n",
       "      <td>1</td>\n",
       "      <td>30 7</td>\n",
       "      <td>5 30 7</td>\n",
       "      <td>Charcoal Fabric  I sent it to my 85 year old D...</td>\n",
       "    </tr>\n",
       "  </tbody>\n",
       "</table>\n",
       "</div>"
      ],
      "text/plain": [
       "      rating       date         variation  \\\n",
       "1531       5 2018-07-30       Black  Show   \n",
       "1466       5 2018-07-30       Black  Show   \n",
       "2800       5 2018-07-31        Black  Dot   \n",
       "667        5 2018-05-23             Black   \n",
       "1672       5 2018-07-28       Black  Show   \n",
       "447        5 2018-07-05             Black   \n",
       "1065       5 2018-07-30       White  Spot   \n",
       "3027       5 2018-07-30        Black  Dot   \n",
       "1861       5 2018-07-28       White  Plus   \n",
       "10         5 2018-07-30  Charcoal Fabric    \n",
       "\n",
       "                                       verified_reviews  feedback clean_date  \\\n",
       "1531  Good sound! The capacity of join different app...         1       30 7   \n",
       "1466  Easy to set up and sooooooo many things it can...         1       30 7   \n",
       "2800  The echo dot was easy to set up and use. It he...         1       31 7   \n",
       "667   It looked brand nrw!! I have nothing to.compla...         1       23 5   \n",
       "1672  I like the variety of stuff that the echo show...         1       28 7   \n",
       "447   Works perfect no wear and tear on the device I...         1        5 7   \n",
       "1065  We absolutely love this product!!! Wish we wou...         1       30 7   \n",
       "3027  Works great.Having fun playing music,checking ...         1       30 7   \n",
       "1861    Easy to set up and works like it's supposed to.         1       28 7   \n",
       "10    I sent it to my 85 year old Dad, and he talks ...         1       30 7   \n",
       "\n",
       "     date_rating                                            reviews  \n",
       "1531      5 30 7  Black  Show Good sound! The capacity of join d...  \n",
       "1466      5 30 7  Black  Show Easy to set up and sooooooo many t...  \n",
       "2800      5 31 7  Black  Dot The echo dot was easy to set up and...  \n",
       "667       5 23 5  Black It looked brand nrw!! I have nothing to....  \n",
       "1672      5 28 7  Black  Show I like the variety of stuff that t...  \n",
       "447        5 5 7  Black Works perfect no wear and tear on the de...  \n",
       "1065      5 30 7  White  Spot We absolutely love this product!!!...  \n",
       "3027      5 30 7  Black  Dot Works great.Having fun playing musi...  \n",
       "1861      5 28 7  White  Plus Easy to set up and works like it's...  \n",
       "10        5 30 7  Charcoal Fabric  I sent it to my 85 year old D...  "
      ]
     },
     "execution_count": 4,
     "metadata": {},
     "output_type": "execute_result"
    }
   ],
   "source": [
    "data['date'] = pd.to_datetime(data['date'])\n",
    "\n",
    "# data['day'] = pd.DatetimeIndex(data['date']).day\n",
    "# data['month'] = pd.DatetimeIndex(data['date']).month\n",
    "\n",
    "# Concate date and rating\n",
    "data['clean_date'] = pd.DatetimeIndex(data['date']).day.astype(str) +\" \"+ pd.DatetimeIndex(data['date']).month.astype(str)\n",
    "data['date_rating'] = data['rating'].astype(str)+' '+ data['clean_date'] \n",
    "\n",
    "# Concatinate variation and verified_reviews in review\n",
    "# data['review'] =  data['variation'] +' '+ data['verified_reviews'] +' '+ data['date_rating']\n",
    "data['reviews'] =  data['variation'] +' '+ data['verified_reviews']\n",
    "\n",
    "data.sample(10)"
   ]
  },
  {
   "cell_type": "code",
   "execution_count": 5,
   "metadata": {},
   "outputs": [
    {
     "data": {
      "text/plain": [
       "0    1\n",
       "1    1\n",
       "2    1\n",
       "3    1\n",
       "4    1\n",
       "Name: feedback, dtype: int64"
      ]
     },
     "execution_count": 5,
     "metadata": {},
     "output_type": "execute_result"
    }
   ],
   "source": [
    "y = data['feedback'] #Target Variable\n",
    "y.head()"
   ]
  },
  {
   "cell_type": "code",
   "execution_count": 6,
   "metadata": {},
   "outputs": [
    {
     "name": "stdout",
     "output_type": "stream",
     "text": [
      "<class 'pandas.core.frame.DataFrame'>\n",
      "RangeIndex: 3150 entries, 0 to 3149\n",
      "Data columns (total 8 columns):\n",
      " #   Column            Non-Null Count  Dtype         \n",
      "---  ------            --------------  -----         \n",
      " 0   rating            3150 non-null   int64         \n",
      " 1   date              3150 non-null   datetime64[ns]\n",
      " 2   variation         3150 non-null   object        \n",
      " 3   verified_reviews  3150 non-null   object        \n",
      " 4   feedback          3150 non-null   int64         \n",
      " 5   clean_date        3150 non-null   object        \n",
      " 6   date_rating       3150 non-null   object        \n",
      " 7   reviews           3150 non-null   object        \n",
      "dtypes: datetime64[ns](1), int64(2), object(5)\n",
      "memory usage: 197.0+ KB\n"
     ]
    }
   ],
   "source": [
    "# Showing file information\n",
    "\n",
    "# Column Name      ->       Discription\n",
    "# ------------------------------------------------------------------------\n",
    "# Rating           ->       satisfaction value of range [1,5]\n",
    "# date             ->       date of item purchased\n",
    "# variation        ->       When we shop online, the same product is available in various sizes, colors,materials\n",
    "#                           and price points. These purchasing options are product variants.\n",
    "# verified_reviews ->       Feedback by customers \n",
    "# feedback         ->       value of verified_reviews positive(1) or negative(0)\n",
    "\n",
    "data.info()"
   ]
  },
  {
   "cell_type": "code",
   "execution_count": 7,
   "metadata": {},
   "outputs": [],
   "source": [
    "# ========== Performing Cleaning operations on Data ==============\n",
    "\n",
    "# importing Libraries\n",
    "\n",
    "from nltk.corpus import stopwords\n",
    "from nltk.stem import WordNetLemmatizer\n",
    "import string\n",
    "lemmatizer = WordNetLemmatizer()\n",
    "punct = string.punctuation\n",
    "stopwords = set(stopwords.words('english'))\n",
    "\n",
    "\n",
    "def text_clean(text):\n",
    "    text = text.lower()  #Convert text in lower case\n",
    "    punc_removed = [char for char in text if char not in punct]  #Removing Punctuations\n",
    "    punc_removed_join = ''.join(punc_removed)\n",
    "    \n",
    "    #Lemmatizing and removing Stop words\n",
    "    punc_removed_clean = [lemmatizer.lemmatize(word) for word in punc_removed_join.split() if word not in stopwords]\n",
    "    \n",
    "    #Removing word those length is 1 or 2\n",
    "    punc_removed_clean = [word for word in punc_removed_clean if len(word) > 2] \n",
    "    punc_removed_clean_join = ' '.join(punc_removed_clean)\n",
    "    \n",
    "    return punc_removed_clean_join"
   ]
  },
  {
   "cell_type": "code",
   "execution_count": 8,
   "metadata": {},
   "outputs": [
    {
     "data": {
      "text/html": [
       "<div>\n",
       "<style scoped>\n",
       "    .dataframe tbody tr th:only-of-type {\n",
       "        vertical-align: middle;\n",
       "    }\n",
       "\n",
       "    .dataframe tbody tr th {\n",
       "        vertical-align: top;\n",
       "    }\n",
       "\n",
       "    .dataframe thead th {\n",
       "        text-align: right;\n",
       "    }\n",
       "</style>\n",
       "<table border=\"1\" class=\"dataframe\">\n",
       "  <thead>\n",
       "    <tr style=\"text-align: right;\">\n",
       "      <th></th>\n",
       "      <th>rating</th>\n",
       "      <th>date</th>\n",
       "      <th>variation</th>\n",
       "      <th>verified_reviews</th>\n",
       "      <th>feedback</th>\n",
       "      <th>clean_date</th>\n",
       "      <th>date_rating</th>\n",
       "      <th>reviews</th>\n",
       "      <th>clean_reviews</th>\n",
       "    </tr>\n",
       "  </thead>\n",
       "  <tbody>\n",
       "    <tr>\n",
       "      <th>947</th>\n",
       "      <td>5</td>\n",
       "      <td>2018-07-29</td>\n",
       "      <td>Charcoal Fabric</td>\n",
       "      <td>Enjoyed entire echo experience</td>\n",
       "      <td>1</td>\n",
       "      <td>29 7</td>\n",
       "      <td>5 29 7</td>\n",
       "      <td>Charcoal Fabric  Enjoyed entire echo experience</td>\n",
       "      <td>charcoal fabric enjoyed entire echo experience</td>\n",
       "    </tr>\n",
       "    <tr>\n",
       "      <th>1674</th>\n",
       "      <td>4</td>\n",
       "      <td>2018-07-28</td>\n",
       "      <td>Black  Show</td>\n",
       "      <td>I wish it did more with internet searches.  I ...</td>\n",
       "      <td>1</td>\n",
       "      <td>28 7</td>\n",
       "      <td>4 28 7</td>\n",
       "      <td>Black  Show I wish it did more with internet s...</td>\n",
       "      <td>black show wish internet search like feature</td>\n",
       "    </tr>\n",
       "    <tr>\n",
       "      <th>2179</th>\n",
       "      <td>5</td>\n",
       "      <td>2018-07-30</td>\n",
       "      <td>Configuration: Fire TV Stick</td>\n",
       "      <td>ok</td>\n",
       "      <td>1</td>\n",
       "      <td>30 7</td>\n",
       "      <td>5 30 7</td>\n",
       "      <td>Configuration: Fire TV Stick ok</td>\n",
       "      <td>configuration fire stick</td>\n",
       "    </tr>\n",
       "    <tr>\n",
       "      <th>1255</th>\n",
       "      <td>5</td>\n",
       "      <td>2018-07-26</td>\n",
       "      <td>Black  Spot</td>\n",
       "      <td>Great product, what they don't tell you is tha...</td>\n",
       "      <td>1</td>\n",
       "      <td>26 7</td>\n",
       "      <td>5 26 7</td>\n",
       "      <td>Black  Spot Great product, what they don't tel...</td>\n",
       "      <td>black spot great product dont tell allow 34dro...</td>\n",
       "    </tr>\n",
       "    <tr>\n",
       "      <th>2896</th>\n",
       "      <td>5</td>\n",
       "      <td>2018-07-30</td>\n",
       "      <td>Black  Dot</td>\n",
       "      <td>Up dated news</td>\n",
       "      <td>1</td>\n",
       "      <td>30 7</td>\n",
       "      <td>5 30 7</td>\n",
       "      <td>Black  Dot Up dated news</td>\n",
       "      <td>black dot dated news</td>\n",
       "    </tr>\n",
       "    <tr>\n",
       "      <th>363</th>\n",
       "      <td>5</td>\n",
       "      <td>2018-07-28</td>\n",
       "      <td>Black</td>\n",
       "      <td>This is our 5th Amazon Echo device.  We have p...</td>\n",
       "      <td>1</td>\n",
       "      <td>28 7</td>\n",
       "      <td>5 28 7</td>\n",
       "      <td>Black This is our 5th Amazon Echo device.  We ...</td>\n",
       "      <td>black 5th amazon echo device purchased refurbi...</td>\n",
       "    </tr>\n",
       "    <tr>\n",
       "      <th>1764</th>\n",
       "      <td>2</td>\n",
       "      <td>2018-07-30</td>\n",
       "      <td>Black  Plus</td>\n",
       "      <td></td>\n",
       "      <td>0</td>\n",
       "      <td>30 7</td>\n",
       "      <td>2 30 7</td>\n",
       "      <td>Black  Plus</td>\n",
       "      <td>black plus</td>\n",
       "    </tr>\n",
       "    <tr>\n",
       "      <th>1253</th>\n",
       "      <td>2</td>\n",
       "      <td>2018-07-26</td>\n",
       "      <td>White  Spot</td>\n",
       "      <td>Honestly it's no different from the Echo dots ...</td>\n",
       "      <td>0</td>\n",
       "      <td>26 7</td>\n",
       "      <td>2 26 7</td>\n",
       "      <td>White  Spot Honestly it's no different from th...</td>\n",
       "      <td>white spot honestly different echo dot already...</td>\n",
       "    </tr>\n",
       "    <tr>\n",
       "      <th>1215</th>\n",
       "      <td>4</td>\n",
       "      <td>2018-07-27</td>\n",
       "      <td>Black  Spot</td>\n",
       "      <td>Yes it met my expectations.  The snooze on the...</td>\n",
       "      <td>1</td>\n",
       "      <td>27 7</td>\n",
       "      <td>4 27 7</td>\n",
       "      <td>Black  Spot Yes it met my expectations.  The s...</td>\n",
       "      <td>black spot yes met expectation snooze alarm ne...</td>\n",
       "    </tr>\n",
       "    <tr>\n",
       "      <th>2023</th>\n",
       "      <td>1</td>\n",
       "      <td>2018-07-19</td>\n",
       "      <td>Black  Plus</td>\n",
       "      <td>Unit came with the wrong plug, will have to se...</td>\n",
       "      <td>0</td>\n",
       "      <td>19 7</td>\n",
       "      <td>1 19 7</td>\n",
       "      <td>Black  Plus Unit came with the wrong plug, wil...</td>\n",
       "      <td>black plus unit came wrong plug send back amazon</td>\n",
       "    </tr>\n",
       "  </tbody>\n",
       "</table>\n",
       "</div>"
      ],
      "text/plain": [
       "      rating       date                     variation  \\\n",
       "947        5 2018-07-29              Charcoal Fabric    \n",
       "1674       4 2018-07-28                   Black  Show   \n",
       "2179       5 2018-07-30  Configuration: Fire TV Stick   \n",
       "1255       5 2018-07-26                   Black  Spot   \n",
       "2896       5 2018-07-30                    Black  Dot   \n",
       "363        5 2018-07-28                         Black   \n",
       "1764       2 2018-07-30                   Black  Plus   \n",
       "1253       2 2018-07-26                   White  Spot   \n",
       "1215       4 2018-07-27                   Black  Spot   \n",
       "2023       1 2018-07-19                   Black  Plus   \n",
       "\n",
       "                                       verified_reviews  feedback clean_date  \\\n",
       "947                      Enjoyed entire echo experience         1       29 7   \n",
       "1674  I wish it did more with internet searches.  I ...         1       28 7   \n",
       "2179                                                 ok         1       30 7   \n",
       "1255  Great product, what they don't tell you is tha...         1       26 7   \n",
       "2896                                      Up dated news         1       30 7   \n",
       "363   This is our 5th Amazon Echo device.  We have p...         1       28 7   \n",
       "1764                                                            0       30 7   \n",
       "1253  Honestly it's no different from the Echo dots ...         0       26 7   \n",
       "1215  Yes it met my expectations.  The snooze on the...         1       27 7   \n",
       "2023  Unit came with the wrong plug, will have to se...         0       19 7   \n",
       "\n",
       "     date_rating                                            reviews  \\\n",
       "947       5 29 7    Charcoal Fabric  Enjoyed entire echo experience   \n",
       "1674      4 28 7  Black  Show I wish it did more with internet s...   \n",
       "2179      5 30 7                    Configuration: Fire TV Stick ok   \n",
       "1255      5 26 7  Black  Spot Great product, what they don't tel...   \n",
       "2896      5 30 7                           Black  Dot Up dated news   \n",
       "363       5 28 7  Black This is our 5th Amazon Echo device.  We ...   \n",
       "1764      2 30 7                                      Black  Plus     \n",
       "1253      2 26 7  White  Spot Honestly it's no different from th...   \n",
       "1215      4 27 7  Black  Spot Yes it met my expectations.  The s...   \n",
       "2023      1 19 7  Black  Plus Unit came with the wrong plug, wil...   \n",
       "\n",
       "                                          clean_reviews  \n",
       "947      charcoal fabric enjoyed entire echo experience  \n",
       "1674       black show wish internet search like feature  \n",
       "2179                           configuration fire stick  \n",
       "1255  black spot great product dont tell allow 34dro...  \n",
       "2896                               black dot dated news  \n",
       "363   black 5th amazon echo device purchased refurbi...  \n",
       "1764                                         black plus  \n",
       "1253  white spot honestly different echo dot already...  \n",
       "1215  black spot yes met expectation snooze alarm ne...  \n",
       "2023   black plus unit came wrong plug send back amazon  "
      ]
     },
     "execution_count": 8,
     "metadata": {},
     "output_type": "execute_result"
    }
   ],
   "source": [
    "\n",
    "data['clean_reviews'] = data['reviews'].apply(text_clean)  #Calling data clean function\n",
    "data.sample(10)\n"
   ]
  },
  {
   "cell_type": "code",
   "execution_count": 9,
   "metadata": {},
   "outputs": [],
   "source": [
    "# from pandas_profiling import ProfileReport\n",
    "# profile = ProfileReport(data)\n",
    "# profile.to_file(output_file=\"amazone.html\")"
   ]
  },
  {
   "cell_type": "code",
   "execution_count": 10,
   "metadata": {},
   "outputs": [
    {
     "data": {
      "text/html": [
       "<div>\n",
       "<style scoped>\n",
       "    .dataframe tbody tr th:only-of-type {\n",
       "        vertical-align: middle;\n",
       "    }\n",
       "\n",
       "    .dataframe tbody tr th {\n",
       "        vertical-align: top;\n",
       "    }\n",
       "\n",
       "    .dataframe thead th {\n",
       "        text-align: right;\n",
       "    }\n",
       "</style>\n",
       "<table border=\"1\" class=\"dataframe\">\n",
       "  <thead>\n",
       "    <tr style=\"text-align: right;\">\n",
       "      <th></th>\n",
       "      <th>rating</th>\n",
       "      <th>date</th>\n",
       "      <th>variation</th>\n",
       "      <th>verified_reviews</th>\n",
       "      <th>feedback</th>\n",
       "      <th>clean_date</th>\n",
       "      <th>date_rating</th>\n",
       "      <th>reviews</th>\n",
       "      <th>clean_reviews</th>\n",
       "    </tr>\n",
       "  </thead>\n",
       "  <tbody>\n",
       "    <tr>\n",
       "      <th>count</th>\n",
       "      <td>3150.000000</td>\n",
       "      <td>3150</td>\n",
       "      <td>3150</td>\n",
       "      <td>3150</td>\n",
       "      <td>3150.000000</td>\n",
       "      <td>3150</td>\n",
       "      <td>3150</td>\n",
       "      <td>3150</td>\n",
       "      <td>3150</td>\n",
       "    </tr>\n",
       "    <tr>\n",
       "      <th>unique</th>\n",
       "      <td>NaN</td>\n",
       "      <td>77</td>\n",
       "      <td>16</td>\n",
       "      <td>2301</td>\n",
       "      <td>NaN</td>\n",
       "      <td>77</td>\n",
       "      <td>216</td>\n",
       "      <td>2378</td>\n",
       "      <td>2298</td>\n",
       "    </tr>\n",
       "    <tr>\n",
       "      <th>top</th>\n",
       "      <td>NaN</td>\n",
       "      <td>2018-07-30 00:00:00</td>\n",
       "      <td>Black  Dot</td>\n",
       "      <td></td>\n",
       "      <td>NaN</td>\n",
       "      <td>30 7</td>\n",
       "      <td>5 30 7</td>\n",
       "      <td>Black  Dot</td>\n",
       "      <td>black dot</td>\n",
       "    </tr>\n",
       "    <tr>\n",
       "      <th>freq</th>\n",
       "      <td>NaN</td>\n",
       "      <td>1603</td>\n",
       "      <td>516</td>\n",
       "      <td>79</td>\n",
       "      <td>NaN</td>\n",
       "      <td>1603</td>\n",
       "      <td>1176</td>\n",
       "      <td>22</td>\n",
       "      <td>22</td>\n",
       "    </tr>\n",
       "    <tr>\n",
       "      <th>first</th>\n",
       "      <td>NaN</td>\n",
       "      <td>2018-05-16 00:00:00</td>\n",
       "      <td>NaN</td>\n",
       "      <td>NaN</td>\n",
       "      <td>NaN</td>\n",
       "      <td>NaN</td>\n",
       "      <td>NaN</td>\n",
       "      <td>NaN</td>\n",
       "      <td>NaN</td>\n",
       "    </tr>\n",
       "    <tr>\n",
       "      <th>last</th>\n",
       "      <td>NaN</td>\n",
       "      <td>2018-07-31 00:00:00</td>\n",
       "      <td>NaN</td>\n",
       "      <td>NaN</td>\n",
       "      <td>NaN</td>\n",
       "      <td>NaN</td>\n",
       "      <td>NaN</td>\n",
       "      <td>NaN</td>\n",
       "      <td>NaN</td>\n",
       "    </tr>\n",
       "    <tr>\n",
       "      <th>mean</th>\n",
       "      <td>4.463175</td>\n",
       "      <td>NaN</td>\n",
       "      <td>NaN</td>\n",
       "      <td>NaN</td>\n",
       "      <td>0.918413</td>\n",
       "      <td>NaN</td>\n",
       "      <td>NaN</td>\n",
       "      <td>NaN</td>\n",
       "      <td>NaN</td>\n",
       "    </tr>\n",
       "    <tr>\n",
       "      <th>std</th>\n",
       "      <td>1.068506</td>\n",
       "      <td>NaN</td>\n",
       "      <td>NaN</td>\n",
       "      <td>NaN</td>\n",
       "      <td>0.273778</td>\n",
       "      <td>NaN</td>\n",
       "      <td>NaN</td>\n",
       "      <td>NaN</td>\n",
       "      <td>NaN</td>\n",
       "    </tr>\n",
       "    <tr>\n",
       "      <th>min</th>\n",
       "      <td>1.000000</td>\n",
       "      <td>NaN</td>\n",
       "      <td>NaN</td>\n",
       "      <td>NaN</td>\n",
       "      <td>0.000000</td>\n",
       "      <td>NaN</td>\n",
       "      <td>NaN</td>\n",
       "      <td>NaN</td>\n",
       "      <td>NaN</td>\n",
       "    </tr>\n",
       "    <tr>\n",
       "      <th>25%</th>\n",
       "      <td>4.000000</td>\n",
       "      <td>NaN</td>\n",
       "      <td>NaN</td>\n",
       "      <td>NaN</td>\n",
       "      <td>1.000000</td>\n",
       "      <td>NaN</td>\n",
       "      <td>NaN</td>\n",
       "      <td>NaN</td>\n",
       "      <td>NaN</td>\n",
       "    </tr>\n",
       "    <tr>\n",
       "      <th>50%</th>\n",
       "      <td>5.000000</td>\n",
       "      <td>NaN</td>\n",
       "      <td>NaN</td>\n",
       "      <td>NaN</td>\n",
       "      <td>1.000000</td>\n",
       "      <td>NaN</td>\n",
       "      <td>NaN</td>\n",
       "      <td>NaN</td>\n",
       "      <td>NaN</td>\n",
       "    </tr>\n",
       "    <tr>\n",
       "      <th>75%</th>\n",
       "      <td>5.000000</td>\n",
       "      <td>NaN</td>\n",
       "      <td>NaN</td>\n",
       "      <td>NaN</td>\n",
       "      <td>1.000000</td>\n",
       "      <td>NaN</td>\n",
       "      <td>NaN</td>\n",
       "      <td>NaN</td>\n",
       "      <td>NaN</td>\n",
       "    </tr>\n",
       "    <tr>\n",
       "      <th>max</th>\n",
       "      <td>5.000000</td>\n",
       "      <td>NaN</td>\n",
       "      <td>NaN</td>\n",
       "      <td>NaN</td>\n",
       "      <td>1.000000</td>\n",
       "      <td>NaN</td>\n",
       "      <td>NaN</td>\n",
       "      <td>NaN</td>\n",
       "      <td>NaN</td>\n",
       "    </tr>\n",
       "  </tbody>\n",
       "</table>\n",
       "</div>"
      ],
      "text/plain": [
       "             rating                 date   variation verified_reviews  \\\n",
       "count   3150.000000                 3150        3150             3150   \n",
       "unique          NaN                   77          16             2301   \n",
       "top             NaN  2018-07-30 00:00:00  Black  Dot                    \n",
       "freq            NaN                 1603         516               79   \n",
       "first           NaN  2018-05-16 00:00:00         NaN              NaN   \n",
       "last            NaN  2018-07-31 00:00:00         NaN              NaN   \n",
       "mean       4.463175                  NaN         NaN              NaN   \n",
       "std        1.068506                  NaN         NaN              NaN   \n",
       "min        1.000000                  NaN         NaN              NaN   \n",
       "25%        4.000000                  NaN         NaN              NaN   \n",
       "50%        5.000000                  NaN         NaN              NaN   \n",
       "75%        5.000000                  NaN         NaN              NaN   \n",
       "max        5.000000                  NaN         NaN              NaN   \n",
       "\n",
       "           feedback clean_date date_rating       reviews clean_reviews  \n",
       "count   3150.000000       3150        3150          3150          3150  \n",
       "unique          NaN         77         216          2378          2298  \n",
       "top             NaN       30 7      5 30 7  Black  Dot       black dot  \n",
       "freq            NaN       1603        1176            22            22  \n",
       "first           NaN        NaN         NaN           NaN           NaN  \n",
       "last            NaN        NaN         NaN           NaN           NaN  \n",
       "mean       0.918413        NaN         NaN           NaN           NaN  \n",
       "std        0.273778        NaN         NaN           NaN           NaN  \n",
       "min        0.000000        NaN         NaN           NaN           NaN  \n",
       "25%        1.000000        NaN         NaN           NaN           NaN  \n",
       "50%        1.000000        NaN         NaN           NaN           NaN  \n",
       "75%        1.000000        NaN         NaN           NaN           NaN  \n",
       "max        1.000000        NaN         NaN           NaN           NaN  "
      ]
     },
     "execution_count": 10,
     "metadata": {},
     "output_type": "execute_result"
    }
   ],
   "source": [
    "data.describe(include=\"all\")"
   ]
  },
  {
   "cell_type": "code",
   "execution_count": 11,
   "metadata": {},
   "outputs": [
    {
     "data": {
      "text/plain": [
       "rating              0\n",
       "date                0\n",
       "variation           0\n",
       "verified_reviews    0\n",
       "feedback            0\n",
       "clean_date          0\n",
       "date_rating         0\n",
       "reviews             0\n",
       "clean_reviews       0\n",
       "dtype: int64"
      ]
     },
     "execution_count": 11,
     "metadata": {},
     "output_type": "execute_result"
    }
   ],
   "source": [
    "data.isnull().sum() #Getting null value"
   ]
  },
  {
   "cell_type": "code",
   "execution_count": 12,
   "metadata": {},
   "outputs": [],
   "source": [
    "# # # ----------- Representing data ---------------------\n",
    "\n",
    "# import seaborn as sns\n",
    "# sns.pairplot(data,hue='feedback')"
   ]
  },
  {
   "cell_type": "code",
   "execution_count": 13,
   "metadata": {},
   "outputs": [
    {
     "data": {
      "text/plain": [
       "2018-07-30    1603\n",
       "2018-07-29     482\n",
       "2018-07-28     250\n",
       "2018-07-26      85\n",
       "2018-07-31      81\n",
       "Name: date, dtype: int64"
      ]
     },
     "execution_count": 13,
     "metadata": {},
     "output_type": "execute_result"
    }
   ],
   "source": [
    "# Representing highest perchase on date\n",
    "date = data['date'].value_counts()\n",
    "date.head()"
   ]
  },
  {
   "cell_type": "code",
   "execution_count": 14,
   "metadata": {},
   "outputs": [
    {
     "data": {
      "text/plain": [
       "<matplotlib.axes._subplots.AxesSubplot at 0x235280fccd0>"
      ]
     },
     "execution_count": 14,
     "metadata": {},
     "output_type": "execute_result"
    },
    {
     "data": {
      "image/png": "[encoded data removed]",
      "text/plain": [
       "<Figure size 1440x360 with 1 Axes>"
      ]
     },
     "metadata": {
      "needs_background": "light"
     },
     "output_type": "display_data"
    }
   ],
   "source": [
    "date.plot(kind='bar',figsize=(20,5))"
   ]
  },
  {
   "cell_type": "code",
   "execution_count": 15,
   "metadata": {},
   "outputs": [
    {
     "data": {
      "text/plain": [
       "5    2286\n",
       "4     455\n",
       "1     161\n",
       "3     152\n",
       "2      96\n",
       "Name: rating, dtype: int64"
      ]
     },
     "execution_count": 15,
     "metadata": {},
     "output_type": "execute_result"
    }
   ],
   "source": [
    "# Representing high rating\n",
    "rating = data['rating'].value_counts()\n",
    "rating.head()"
   ]
  },
  {
   "cell_type": "code",
   "execution_count": 16,
   "metadata": {},
   "outputs": [
    {
     "data": {
      "text/plain": [
       "<matplotlib.axes._subplots.AxesSubplot at 0x23528c4e9a0>"
      ]
     },
     "execution_count": 16,
     "metadata": {},
     "output_type": "execute_result"
    },
    {
     "data": {
      "image/png": "[encoded data removed]",
      "text/plain": [
       "<Figure size 432x288 with 1 Axes>"
      ]
     },
     "metadata": {
      "needs_background": "light"
     },
     "output_type": "display_data"
    }
   ],
   "source": [
    "rating.plot(kind='bar')"
   ]
  },
  {
   "cell_type": "code",
   "execution_count": 17,
   "metadata": {},
   "outputs": [
    {
     "data": {
      "text/plain": [
       "5 30 7    1176\n",
       "5 29 7     368\n",
       "4 30 7     251\n",
       "5 28 7     187\n",
       "3 30 7      73\n",
       "Name: date_rating, dtype: int64"
      ]
     },
     "execution_count": 17,
     "metadata": {},
     "output_type": "execute_result"
    }
   ],
   "source": [
    "date_rating = data['date_rating'].value_counts()\n",
    "date_rating.head()"
   ]
  },
  {
   "cell_type": "code",
   "execution_count": 18,
   "metadata": {},
   "outputs": [
    {
     "name": "stdout",
     "output_type": "stream",
     "text": [
      "(216,)\n"
     ]
    },
    {
     "data": {
      "text/plain": [
       "<matplotlib.axes._subplots.AxesSubplot at 0x23528e78d90>"
      ]
     },
     "execution_count": 18,
     "metadata": {},
     "output_type": "execute_result"
    },
    {
     "data": {
      "image/png": "[encoded data removed]",
      "text/plain": [
       "<Figure size 1440x360 with 1 Axes>"
      ]
     },
     "metadata": {
      "needs_background": "light"
     },
     "output_type": "display_data"
    }
   ],
   "source": [
    "print(date_rating.shape)\n",
    "date_rating.plot(kind='bar',figsize=(20,5))"
   ]
  },
  {
   "cell_type": "code",
   "execution_count": 19,
   "metadata": {},
   "outputs": [
    {
     "data": {
      "text/plain": [
       "(3150, 250)"
      ]
     },
     "execution_count": 19,
     "metadata": {},
     "output_type": "execute_result"
    }
   ],
   "source": [
    "# Getting bag of words on in reviews\n",
    "from sklearn.feature_extraction.text import CountVectorizer\n",
    "vectorizer = CountVectorizer(max_features=250)\n",
    "# X = vectorizer.fit_transform(data['clean_reviews'],data['date_rating'],).toarray() #getting array of Bag of Words\n",
    "X = vectorizer.fit_transform(data['clean_reviews'],data['date_rating']).toarray() #getting array of Bag of Words\n",
    "\n",
    "X.shape"
   ]
  },
  {
   "cell_type": "code",
   "execution_count": 20,
   "metadata": {},
   "outputs": [
    {
     "data": {
      "text/plain": [
       "array([[0, 0, 0, ..., 0, 0, 0],\n",
       "       [0, 0, 0, ..., 0, 0, 0],\n",
       "       [0, 1, 0, ..., 0, 0, 0],\n",
       "       ...,\n",
       "       [0, 0, 0, ..., 0, 0, 0],\n",
       "       [0, 0, 0, ..., 0, 0, 0],\n",
       "       [0, 0, 0, ..., 0, 0, 0]], dtype=int64)"
      ]
     },
     "execution_count": 20,
     "metadata": {},
     "output_type": "execute_result"
    }
   ],
   "source": [
    "X\n"
   ]
  },
  {
   "cell_type": "code",
   "execution_count": 21,
   "metadata": {},
   "outputs": [],
   "source": [
    "# y=pd.get_dummies(data['feedback']) #get_dummies --> it used for categorical variable into a series of zeros and ones\n",
    "# y=y.iloc[:,1].values #getting value of second column\n",
    "y = data['feedback']"
   ]
  },
  {
   "cell_type": "code",
   "execution_count": 22,
   "metadata": {},
   "outputs": [],
   "source": [
    "# y = data['feedback']"
   ]
  },
  {
   "cell_type": "code",
   "execution_count": 23,
   "metadata": {},
   "outputs": [
    {
     "data": {
      "text/plain": [
       "0       1\n",
       "1       1\n",
       "2       1\n",
       "3       1\n",
       "4       1\n",
       "       ..\n",
       "3145    1\n",
       "3146    1\n",
       "3147    1\n",
       "3148    1\n",
       "3149    1\n",
       "Name: feedback, Length: 3150, dtype: int64"
      ]
     },
     "execution_count": 23,
     "metadata": {},
     "output_type": "execute_result"
    }
   ],
   "source": [
    "y"
   ]
  },
  {
   "cell_type": "code",
   "execution_count": 24,
   "metadata": {},
   "outputs": [],
   "source": [
    "from sklearn.model_selection import train_test_split      #deviding data into training and test data set\n",
    "X_train, X_test, y_train, y_test = train_test_split(X, y, test_size = 0.50)\n",
    "\n",
    "# X_train -> Taking dataset for training \n",
    "# X_test  -> Taking dataset for testing\n",
    "# y_train -> output(target data) for training\n",
    "# y_test  -> output(target data) for testing\n",
    "# test_size -> The ideal split is said to be 80:20 for training and testing.\n",
    "#              for our need we adjust it depending on the size of the dataset and parameter complexity.\n",
    "\n",
    "# random_state -> random state value present the state of suffle data in train and test split"
   ]
  },
  {
   "cell_type": "code",
   "execution_count": 25,
   "metadata": {},
   "outputs": [
    {
     "name": "stdout",
     "output_type": "stream",
     "text": [
      "[[0 0 0 ... 0 0 0]\n",
      " [0 1 0 ... 0 0 0]\n",
      " [0 0 0 ... 0 0 0]\n",
      " ...\n",
      " [0 0 0 ... 0 0 0]\n",
      " [0 0 0 ... 0 0 0]\n",
      " [0 0 0 ... 0 0 0]]\n"
     ]
    },
    {
     "data": {
      "text/plain": [
       "(1575, 250)"
      ]
     },
     "execution_count": 25,
     "metadata": {},
     "output_type": "execute_result"
    }
   ],
   "source": [
    "print(X_train)\n",
    "X_train.shape"
   ]
  },
  {
   "cell_type": "code",
   "execution_count": 26,
   "metadata": {},
   "outputs": [
    {
     "name": "stdout",
     "output_type": "stream",
     "text": [
      "[[0 0 0 ... 0 0 0]\n",
      " [0 0 0 ... 0 0 0]\n",
      " [0 0 0 ... 0 0 0]\n",
      " ...\n",
      " [0 0 0 ... 0 0 0]\n",
      " [0 0 0 ... 0 0 0]\n",
      " [0 0 0 ... 0 0 0]]\n"
     ]
    },
    {
     "data": {
      "text/plain": [
       "(1575, 250)"
      ]
     },
     "execution_count": 26,
     "metadata": {},
     "output_type": "execute_result"
    }
   ],
   "source": [
    "print(X_test)\n",
    "X_test.shape"
   ]
  },
  {
   "cell_type": "code",
   "execution_count": 27,
   "metadata": {},
   "outputs": [
    {
     "name": "stdout",
     "output_type": "stream",
     "text": [
      "219     1\n",
      "2219    1\n",
      "2550    1\n",
      "107     1\n",
      "16      1\n",
      "       ..\n",
      "129     1\n",
      "2657    1\n",
      "2947    1\n",
      "2119    1\n",
      "1805    1\n",
      "Name: feedback, Length: 1575, dtype: int64\n"
     ]
    },
    {
     "data": {
      "text/plain": [
       "(1575,)"
      ]
     },
     "execution_count": 27,
     "metadata": {},
     "output_type": "execute_result"
    }
   ],
   "source": [
    "print(y_train)\n",
    "y_train.shape"
   ]
  },
  {
   "cell_type": "code",
   "execution_count": 28,
   "metadata": {},
   "outputs": [
    {
     "name": "stdout",
     "output_type": "stream",
     "text": [
      "2720    1\n",
      "1763    1\n",
      "8       1\n",
      "383     1\n",
      "27      1\n",
      "       ..\n",
      "1126    1\n",
      "926     1\n",
      "2230    1\n",
      "57      1\n",
      "516     1\n",
      "Name: feedback, Length: 1575, dtype: int64\n"
     ]
    },
    {
     "data": {
      "text/plain": [
       "(1575,)"
      ]
     },
     "execution_count": 28,
     "metadata": {},
     "output_type": "execute_result"
    }
   ],
   "source": [
    "print(y_test)\n",
    "y_test.shape"
   ]
  },
  {
   "cell_type": "markdown",
   "metadata": {},
   "source": [
    "# # --------- Model Selection -----------"
   ]
  },
  {
   "cell_type": "code",
   "execution_count": 29,
   "metadata": {},
   "outputs": [],
   "source": [
    "# Importing library\n",
    "from sklearn import metrics\n",
    "from sklearn.metrics import accuracy_score, classification_report, confusion_matrix"
   ]
  },
  {
   "cell_type": "markdown",
   "metadata": {},
   "source": [
    "---------------- Using model Logistic regression ------------------"
   ]
  },
  {
   "cell_type": "code",
   "execution_count": 30,
   "metadata": {},
   "outputs": [
    {
     "name": "stdout",
     "output_type": "stream",
     "text": [
      "Logistic Regression Accuracy :   0.93\n",
      "Confussion Metrics :  \n",
      " [[  30  105]\n",
      " [  13 1427]]\n",
      "Classification Report :  \n",
      "               precision    recall  f1-score   support\n",
      "\n",
      "           0       0.70      0.22      0.34       135\n",
      "           1       0.93      0.99      0.96      1440\n",
      "\n",
      "    accuracy                           0.93      1575\n",
      "   macro avg       0.81      0.61      0.65      1575\n",
      "weighted avg       0.91      0.93      0.91      1575\n",
      "\n"
     ]
    }
   ],
   "source": [
    "#Using model Logistic regression\n",
    "from sklearn import linear_model\n",
    "logistic = linear_model.LogisticRegression()\n",
    "logistic.fit(X_train, y_train)    #fitting training data in model\n",
    "pred_logistic = logistic.predict(X_test)  #getting predict value on test data\n",
    "\n",
    "score = logistic.score(X_test, y_test) #getting accuracy on predict and real data\n",
    "cm = confusion_matrix(y_test, pred_logistic)  #generating confussion metrics\n",
    "cr1 = classification_report(y_test, pred_logistic)  #generating classification report\n",
    "\n",
    "print(\"Logistic Regression Accuracy :   %0.2f\" % score)\n",
    "print(\"Confussion Metrics : \",\"\\n\",cm)\n",
    "print(\"Classification Report : \",\"\\n\",cr1)"
   ]
  },
  {
   "cell_type": "markdown",
   "metadata": {},
   "source": [
    "---------------- MultinomialNB Classifier ----------------\n"
   ]
  },
  {
   "cell_type": "code",
   "execution_count": 31,
   "metadata": {},
   "outputs": [
    {
     "name": "stdout",
     "output_type": "stream",
     "text": [
      "MultinomialNB Classifier Accuracy :   0.92\n",
      "Confussion Metrics :  \n",
      " [[  37   98]\n",
      " [  34 1406]]\n",
      "Classification Report :  \n",
      "               precision    recall  f1-score   support\n",
      "\n",
      "           0       0.52      0.27      0.36       135\n",
      "           1       0.93      0.98      0.96      1440\n",
      "\n",
      "    accuracy                           0.92      1575\n",
      "   macro avg       0.73      0.63      0.66      1575\n",
      "weighted avg       0.90      0.92      0.90      1575\n",
      "\n"
     ]
    }
   ],
   "source": [
    "from sklearn.naive_bayes import MultinomialNB\n",
    "classifier=MultinomialNB()  \n",
    "classifier.fit(X_train, y_train)  #fitting training data in model\n",
    "\n",
    "pred_m = classifier.predict(X_test)  #getting predict value on test data\n",
    "score = metrics.accuracy_score(y_test, pred_m)  #getting accuracy on predict and real data\n",
    "cm = metrics.confusion_matrix(y_test, pred_m)   #generating confussion metrics\n",
    "cr2 = classification_report(y_test, pred_m)  #generating classification report\n",
    "\n",
    "print(\"MultinomialNB Classifier Accuracy :   %0.2f\" % score)\n",
    "print(\"Confussion Metrics : \",\"\\n\",cm)\n",
    "print(\"Classification Report : \",\"\\n\",cr2)"
   ]
  },
  {
   "cell_type": "markdown",
   "metadata": {},
   "source": [
    "------------- KNeighbors Classifier ---------------"
   ]
  },
  {
   "cell_type": "code",
   "execution_count": 32,
   "metadata": {},
   "outputs": [
    {
     "name": "stdout",
     "output_type": "stream",
     "text": [
      "KNN Classifier Accuracy :   0.91\n",
      "Confussion Metrics :  \n",
      " [[   9  126]\n",
      " [  19 1421]]\n",
      "Classification Report :  \n",
      "               precision    recall  f1-score   support\n",
      "\n",
      "           0       0.32      0.07      0.11       135\n",
      "           1       0.92      0.99      0.95      1440\n",
      "\n",
      "    accuracy                           0.91      1575\n",
      "   macro avg       0.62      0.53      0.53      1575\n",
      "weighted avg       0.87      0.91      0.88      1575\n",
      "\n"
     ]
    }
   ],
   "source": [
    "from sklearn import neighbors\n",
    "knn = neighbors.KNeighborsClassifier()\n",
    "knn.fit(X_train, y_train)  #fitting training data in model\n",
    "\n",
    "pred_knn = knn.predict(X_test)  #getting predict value on test data\n",
    "score = metrics.accuracy_score(y_test, pred_knn) #getting accuracy on predict and real data\n",
    "cm = metrics.confusion_matrix(y_test, pred_knn)\n",
    "cr3 = classification_report(y_test, pred_knn)\n",
    "\n",
    "print(\"KNN Classifier Accuracy :   %0.2f\" % score)\n",
    "print(\"Confussion Metrics : \",\"\\n\",cm)\n",
    "print(\"Classification Report : \",\"\\n\",cr3)"
   ]
  },
  {
   "cell_type": "code",
   "execution_count": null,
   "metadata": {},
   "outputs": [],
   "source": []
  }
 ],
 "metadata": {
  "kernelspec": {
   "display_name": "Python 3",
   "language": "python",
   "name": "python3"
  },
  "language_info": {
   "codemirror_mode": {
    "name": "ipython",
    "version": 3
   },
   "file_extension": ".py",
   "mimetype": "text/x-python",
   "name": "python",
   "nbconvert_exporter": "python",
   "pygments_lexer": "ipython3",
   "version": "3.8.5"
  }
 },
 "nbformat": 4,
 "nbformat_minor": 4
}
