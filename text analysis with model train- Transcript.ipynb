{
 "cells": [
  {
   "cell_type": "code",
   "execution_count": 1,
   "metadata": {},
   "outputs": [],
   "source": [
    "# import Library\n",
    "import pandas as pd\n",
    "import nltk"
   ]
  },
  {
   "cell_type": "code",
   "execution_count": 2,
   "metadata": {},
   "outputs": [],
   "source": [
    "# Reading Dataset\n",
    "data = pd.read_csv('dataset/Transcript.csv')"
   ]
  },
  {
   "cell_type": "code",
   "execution_count": 3,
   "metadata": {},
   "outputs": [
    {
     "data": {
      "text/html": [
       "<div>\n",
       "<style scoped>\n",
       "    .dataframe tbody tr th:only-of-type {\n",
       "        vertical-align: middle;\n",
       "    }\n",
       "\n",
       "    .dataframe tbody tr th {\n",
       "        vertical-align: top;\n",
       "    }\n",
       "\n",
       "    .dataframe thead th {\n",
       "        text-align: right;\n",
       "    }\n",
       "</style>\n",
       "<table border=\"1\" class=\"dataframe\">\n",
       "  <thead>\n",
       "    <tr style=\"text-align: right;\">\n",
       "      <th></th>\n",
       "      <th>Sno</th>\n",
       "      <th>Text</th>\n",
       "      <th>Sentiment</th>\n",
       "    </tr>\n",
       "  </thead>\n",
       "  <tbody>\n",
       "    <tr>\n",
       "      <th>20</th>\n",
       "      <td>21</td>\n",
       "      <td>Call pizza offices. Chloe may have your name, ...</td>\n",
       "      <td>1</td>\n",
       "    </tr>\n",
       "    <tr>\n",
       "      <th>12</th>\n",
       "      <td>13</td>\n",
       "      <td>Hi, welcome to Pizza Hut this is median. Can I...</td>\n",
       "      <td>1</td>\n",
       "    </tr>\n",
       "    <tr>\n",
       "      <th>4</th>\n",
       "      <td>5</td>\n",
       "      <td>Hi, welcome to Pizza Hut. My name is Christine...</td>\n",
       "      <td>1</td>\n",
       "    </tr>\n",
       "    <tr>\n",
       "      <th>55</th>\n",
       "      <td>56</td>\n",
       "      <td>Welcome to Pizza Hut. My name is Miguel. Can I...</td>\n",
       "      <td>0</td>\n",
       "    </tr>\n",
       "    <tr>\n",
       "      <th>13</th>\n",
       "      <td>14</td>\n",
       "      <td>Pizza Hut this is she gonna get your name?My n...</td>\n",
       "      <td>0</td>\n",
       "    </tr>\n",
       "    <tr>\n",
       "      <th>18</th>\n",
       "      <td>19</td>\n",
       "      <td>Hi, welcome to Pizza Hut this is Chris may hav...</td>\n",
       "      <td>1</td>\n",
       "    </tr>\n",
       "    <tr>\n",
       "      <th>60</th>\n",
       "      <td>61</td>\n",
       "      <td>Thank you for calling pizza. This is June, may...</td>\n",
       "      <td>1</td>\n",
       "    </tr>\n",
       "    <tr>\n",
       "      <th>16</th>\n",
       "      <td>17</td>\n",
       "      <td>For calling Pizza Hut. This is well, can I hav...</td>\n",
       "      <td>1</td>\n",
       "    </tr>\n",
       "    <tr>\n",
       "      <th>24</th>\n",
       "      <td>25</td>\n",
       "      <td>Thank you for calling Pizza Hut. This is well,...</td>\n",
       "      <td>0</td>\n",
       "    </tr>\n",
       "    <tr>\n",
       "      <th>10</th>\n",
       "      <td>11</td>\n",
       "      <td>Thank you for calling Pizza Hut. My name is Ma...</td>\n",
       "      <td>1</td>\n",
       "    </tr>\n",
       "  </tbody>\n",
       "</table>\n",
       "</div>"
      ],
      "text/plain": [
       "    Sno                                               Text  Sentiment\n",
       "20   21  Call pizza offices. Chloe may have your name, ...          1\n",
       "12   13  Hi, welcome to Pizza Hut this is median. Can I...          1\n",
       "4     5  Hi, welcome to Pizza Hut. My name is Christine...          1\n",
       "55   56  Welcome to Pizza Hut. My name is Miguel. Can I...          0\n",
       "13   14  Pizza Hut this is she gonna get your name?My n...          0\n",
       "18   19  Hi, welcome to Pizza Hut this is Chris may hav...          1\n",
       "60   61  Thank you for calling pizza. This is June, may...          1\n",
       "16   17  For calling Pizza Hut. This is well, can I hav...          1\n",
       "24   25  Thank you for calling Pizza Hut. This is well,...          0\n",
       "10   11  Thank you for calling Pizza Hut. My name is Ma...          1"
      ]
     },
     "execution_count": 3,
     "metadata": {},
     "output_type": "execute_result"
    }
   ],
   "source": [
    "# data = data[['rating','date','verified_reviews']]\n",
    "data.sample(10)"
   ]
  },
  {
   "cell_type": "code",
   "execution_count": 4,
   "metadata": {},
   "outputs": [],
   "source": [
    "# data['date'] = pd.to_datetime(data['date']) #convert date,string to number\n",
    "\n",
    "# # Concating ,\"rating\" \"date\" \"variation\" in  in new column name \"reviews\"\n",
    "# data['reviews'] = data['date'].astype(str) + ' ' + data['rating'].astype(str) + ' ' + data['variation'] + ' ' + data['verified_reviews']\n",
    "# data.sample(10)"
   ]
  },
  {
   "cell_type": "code",
   "execution_count": 5,
   "metadata": {},
   "outputs": [
    {
     "data": {
      "text/plain": [
       "\"Call pizza offices. Chloe may have your name, please.Hi, my name is ***. Can you please connect my call to the crumbles above the 3977 at Pizza Hut.In order for delivery or pick up pick up pick up. I just wanna be OK. Well I can take the orders for you. Which store would that be?R cran burn a Cameron Bank.893977 OK. One moment. Yeah OK I can take the order for wait time. It's going to be 15 minutes the orders to be ready. What's your order please?2 two pieces for 15. Today right to last Tuesday. Yeah, what would you like to get?I wonder one vegetarian option.Veggie.No I want.Um holding spicy chicken.Cross.I wanna deep pan.OK and then.Uh, in the vegetarian you can you suggest me which in vegetable pizza is good.Like a full of vegetables and which one is good?Station.Father Veggie sensation.Yes.Target has.So on Thigpen as well.An example.That's it, how would the chicken Supreme is good?Chicken Supreme hang in there for a moment. Yes. Chicken Supreme is also combination of veggie and chicken.You want to get this.No, I think that chicken.Horton spicy chicken is good, yeah?Oh yeah, it's it's also good.Would you also like to add one more pizza or you're fine with these two?The two pizzas for 15, right? Uh, yes, that's correct. Actually, it's for 1795 altogether.How about the medium size?I know the two for one deal only is for large size.That's for $15. Last time I pay $15 for two people? Uh, depends on the type of pizza for hot and spicy, which is.Uh.Hi has higher price it's 1795. That's why we follow which ever is higher.No, actually that I already like. I know that there's two pizzas for 15.Uhm, Well you gotta choose another pizza. Um, that's with lower cost. The veggie sensation is 4095 hot and spicy chicken is 1795. Unless you want to change it to a pizza with a lower price, you can get it for 1495 these two pizzas.OK.So I want one hold.Yes.InIf you get chicken scream OK, well just so you know if you get chicken Supreme you only have to pay 4095.I'll get chicken at Chicken. Sabrina Chicken Supreme is spicy.No, it's not.So it has she can we can add flakes.OK, can you remove pineapple and actually it's like an what we can jalapenos?OK.Sure it will cost you more for jalapenos plus $2.So it's gonna be like 95.The chicken Supreme without without pineapple and the chili flakes on top. OK, sure.Without add ONS.OK, is this playing?Yeah, that's the medicine in this P direct, yes.OK, so you want to get extra.Yeah, not too much just like normal techno. Don't know, alright?Alright so I have.Find Supreme without added Chili Flakes and then veggie sensation in our. These are on deep pan 1495. Would you like to get pasta or chicken wings? We also have sides, desserts and drinks.No, that's just two pizzas and order name for storing them.OK yeah, for pickup in cranberry 15 minutes after this call, how do you spell your first name?SURINAnd your best Contacts. Sorry answer you are AM.As you are, I am.OK.BER.OK, thank you and your contact number is what's your mobile?Uhm, I give the mobile number.One number is ***.***Yes.***OK want to receive SMS from Pizza Hut. About DL send Pro Bowls OK?It's you how?Yeah, Alright, and how would you like to pay?I'll take care. OK, sure, let me just play theater.Yeah, order is now submitted. They want to take note of the reference.Order numberno. Good justice plays right name of surrender. Yes, I remember. Yeah that's fine alright thank you have a good night.\""
      ]
     },
     "execution_count": 5,
     "metadata": {},
     "output_type": "execute_result"
    }
   ],
   "source": [
    "data['Text'][20]"
   ]
  },
  {
   "cell_type": "code",
   "execution_count": null,
   "metadata": {},
   "outputs": [],
   "source": []
  },
  {
   "cell_type": "code",
   "execution_count": 6,
   "metadata": {},
   "outputs": [],
   "source": [
    "# data['date'] = pd.to_datetime(data['date']) #convert date string to number"
   ]
  },
  {
   "cell_type": "code",
   "execution_count": 7,
   "metadata": {},
   "outputs": [
    {
     "name": "stdout",
     "output_type": "stream",
     "text": [
      "<class 'pandas.core.frame.DataFrame'>\n",
      "RangeIndex: 65 entries, 0 to 64\n",
      "Data columns (total 3 columns):\n",
      " #   Column     Non-Null Count  Dtype \n",
      "---  ------     --------------  ----- \n",
      " 0   Sno        65 non-null     int64 \n",
      " 1   Text       65 non-null     object\n",
      " 2   Sentiment  65 non-null     int64 \n",
      "dtypes: int64(2), object(1)\n",
      "memory usage: 1.6+ KB\n"
     ]
    }
   ],
   "source": [
    "# Showing file information\n",
    "\n",
    "# Column Name      ->       Discription\n",
    "# ------------------------------------------------------------------------\n",
    "# Rating           ->       satisfaction value of range [1,5]\n",
    "# date             ->       date of item purchased\n",
    "# variation        ->       When we shop online, the same product is available in various sizes, colors,materials\n",
    "#                           and price points. These purchasing options are product variants.\n",
    "# verified_reviews ->       Feedback by customers \n",
    "# feedback         ->       value of verified_reviews positive(1) or negative(0)\n",
    "\n",
    "data.info()"
   ]
  },
  {
   "cell_type": "code",
   "execution_count": 8,
   "metadata": {},
   "outputs": [],
   "source": [
    "# ========== Performing Cleaning operations on Data ==============\n",
    "\n",
    "# importing Libraries\n",
    "\n",
    "from nltk.corpus import stopwords\n",
    "from nltk.stem import WordNetLemmatizer\n",
    "import string\n",
    "lemmatizer = WordNetLemmatizer()\n",
    "punct = string.punctuation\n",
    "stopwords = set(stopwords.words('english'))\n",
    "\n",
    "\n",
    "def text_clean(text):\n",
    "    text = text.lower()  #Convert text in lower case\n",
    "    punc_removed = [char for char in text if char not in punct]  #Removing Punctuations\n",
    "    punc_removed_join = ''.join(punc_removed)\n",
    "    \n",
    "    #Lemmatizing and removing Stop words\n",
    "    punc_removed_clean = [lemmatizer.lemmatize(word) for word in punc_removed_join.split() if word not in stopwords]\n",
    "    \n",
    "    #Removing word those length is 1 or 2\n",
    "    punc_removed_clean = [word for word in punc_removed_clean if len(word) > 2] \n",
    "    punc_removed_clean_join = ' '.join(punc_removed_clean)\n",
    "    \n",
    "    return punc_removed_clean_join"
   ]
  },
  {
   "cell_type": "code",
   "execution_count": 9,
   "metadata": {},
   "outputs": [
    {
     "data": {
      "text/html": [
       "<div>\n",
       "<style scoped>\n",
       "    .dataframe tbody tr th:only-of-type {\n",
       "        vertical-align: middle;\n",
       "    }\n",
       "\n",
       "    .dataframe tbody tr th {\n",
       "        vertical-align: top;\n",
       "    }\n",
       "\n",
       "    .dataframe thead th {\n",
       "        text-align: right;\n",
       "    }\n",
       "</style>\n",
       "<table border=\"1\" class=\"dataframe\">\n",
       "  <thead>\n",
       "    <tr style=\"text-align: right;\">\n",
       "      <th></th>\n",
       "      <th>Sno</th>\n",
       "      <th>Text</th>\n",
       "      <th>Sentiment</th>\n",
       "      <th>clean_reviews</th>\n",
       "    </tr>\n",
       "  </thead>\n",
       "  <tbody>\n",
       "    <tr>\n",
       "      <th>51</th>\n",
       "      <td>52</td>\n",
       "      <td>How you thank you for calling Pizza Hut is Dra...</td>\n",
       "      <td>1</td>\n",
       "      <td>thank calling pizza hut drake name pleasealrig...</td>\n",
       "    </tr>\n",
       "    <tr>\n",
       "      <th>38</th>\n",
       "      <td>39</td>\n",
       "      <td>Hi, welcome to Pizza Hut Irene speaking. Can I...</td>\n",
       "      <td>1</td>\n",
       "      <td>welcome pizza hut irene speaking take name ple...</td>\n",
       "    </tr>\n",
       "    <tr>\n",
       "      <th>61</th>\n",
       "      <td>62</td>\n",
       "      <td>Thank you for calling Pizza Hut this is Shane....</td>\n",
       "      <td>1</td>\n",
       "      <td>thank calling pizza hut shane get namemy name ...</td>\n",
       "    </tr>\n",
       "    <tr>\n",
       "      <th>60</th>\n",
       "      <td>61</td>\n",
       "      <td>Thank you for calling pizza. This is June, may...</td>\n",
       "      <td>1</td>\n",
       "      <td>thank calling pizza june may name pleaseyeah n...</td>\n",
       "    </tr>\n",
       "    <tr>\n",
       "      <th>50</th>\n",
       "      <td>51</td>\n",
       "      <td>Hello, thank you for calling Pizza Hut this jo...</td>\n",
       "      <td>1</td>\n",
       "      <td>hello thank calling pizza hut joy name pleasea...</td>\n",
       "    </tr>\n",
       "    <tr>\n",
       "      <th>20</th>\n",
       "      <td>21</td>\n",
       "      <td>Call pizza offices. Chloe may have your name, ...</td>\n",
       "      <td>1</td>\n",
       "      <td>call pizza office chloe may name pleasehi name...</td>\n",
       "    </tr>\n",
       "    <tr>\n",
       "      <th>21</th>\n",
       "      <td>22</td>\n",
       "      <td>Welcome to Pizza Hut. My name is Miguel can ha...</td>\n",
       "      <td>0</td>\n",
       "      <td>welcome pizza hut name miguel name please orde...</td>\n",
       "    </tr>\n",
       "    <tr>\n",
       "      <th>4</th>\n",
       "      <td>5</td>\n",
       "      <td>Hi, welcome to Pizza Hut. My name is Christine...</td>\n",
       "      <td>1</td>\n",
       "      <td>welcome pizza hut name christine may name plea...</td>\n",
       "    </tr>\n",
       "    <tr>\n",
       "      <th>23</th>\n",
       "      <td>24</td>\n",
       "      <td>Thank you for calling Pizza Hut this is Belle ...</td>\n",
       "      <td>0</td>\n",
       "      <td>thank calling pizza hut belle name please andh...</td>\n",
       "    </tr>\n",
       "    <tr>\n",
       "      <th>14</th>\n",
       "      <td>15</td>\n",
       "      <td>Hi, welcome to Pizza Hut. My name is Christine...</td>\n",
       "      <td>1</td>\n",
       "      <td>welcome pizza hut name christine may name plea...</td>\n",
       "    </tr>\n",
       "    <tr>\n",
       "      <th>33</th>\n",
       "      <td>34</td>\n",
       "      <td>Thank you for calling Pizza Hut. My name is Ka...</td>\n",
       "      <td>1</td>\n",
       "      <td>thank calling pizza hut name karen may name pl...</td>\n",
       "    </tr>\n",
       "    <tr>\n",
       "      <th>36</th>\n",
       "      <td>37</td>\n",
       "      <td>Hello, thank you for calling pizza is Mike may...</td>\n",
       "      <td>1</td>\n",
       "      <td>hello thank calling pizza mike may first name ...</td>\n",
       "    </tr>\n",
       "    <tr>\n",
       "      <th>24</th>\n",
       "      <td>25</td>\n",
       "      <td>Thank you for calling Pizza Hut. This is well,...</td>\n",
       "      <td>0</td>\n",
       "      <td>thank calling pizza hut well name pleaseits ca...</td>\n",
       "    </tr>\n",
       "    <tr>\n",
       "      <th>5</th>\n",
       "      <td>6</td>\n",
       "      <td>Thanks for calling Pizza Hut. This is Jenny. M...</td>\n",
       "      <td>1</td>\n",
       "      <td>thanks calling pizza hut jenny may namehello n...</td>\n",
       "    </tr>\n",
       "    <tr>\n",
       "      <th>13</th>\n",
       "      <td>14</td>\n",
       "      <td>Pizza Hut this is she gonna get your name?My n...</td>\n",
       "      <td>0</td>\n",
       "      <td>pizza hut gonna get namemy name calling pick d...</td>\n",
       "    </tr>\n",
       "    <tr>\n",
       "      <th>42</th>\n",
       "      <td>43</td>\n",
       "      <td>Thanks for calling Pizza Hut Business Chloe ma...</td>\n",
       "      <td>0</td>\n",
       "      <td>thanks calling pizza hut business chloe mappin...</td>\n",
       "    </tr>\n",
       "    <tr>\n",
       "      <th>34</th>\n",
       "      <td>35</td>\n",
       "      <td>Contact center my name is Maxine. May have you...</td>\n",
       "      <td>1</td>\n",
       "      <td>contact center name maxine may name pleaseyes ...</td>\n",
       "    </tr>\n",
       "    <tr>\n",
       "      <th>47</th>\n",
       "      <td>48</td>\n",
       "      <td>Thanks for calling Pizza Hut. This is Jenny. M...</td>\n",
       "      <td>1</td>\n",
       "      <td>thanks calling pizza hut jenny may namehello n...</td>\n",
       "    </tr>\n",
       "    <tr>\n",
       "      <th>0</th>\n",
       "      <td>1</td>\n",
       "      <td>Hi, welcome to Pizza Hut. My name is Christine...</td>\n",
       "      <td>1</td>\n",
       "      <td>welcome pizza hut name christine may name plea...</td>\n",
       "    </tr>\n",
       "    <tr>\n",
       "      <th>8</th>\n",
       "      <td>9</td>\n",
       "      <td>Want to chat minimis? Karen may have your name...</td>\n",
       "      <td>0</td>\n",
       "      <td>want chat minimis karen may name please yes ca...</td>\n",
       "    </tr>\n",
       "  </tbody>\n",
       "</table>\n",
       "</div>"
      ],
      "text/plain": [
       "    Sno                                               Text  Sentiment  \\\n",
       "51   52  How you thank you for calling Pizza Hut is Dra...          1   \n",
       "38   39  Hi, welcome to Pizza Hut Irene speaking. Can I...          1   \n",
       "61   62  Thank you for calling Pizza Hut this is Shane....          1   \n",
       "60   61  Thank you for calling pizza. This is June, may...          1   \n",
       "50   51  Hello, thank you for calling Pizza Hut this jo...          1   \n",
       "20   21  Call pizza offices. Chloe may have your name, ...          1   \n",
       "21   22  Welcome to Pizza Hut. My name is Miguel can ha...          0   \n",
       "4     5  Hi, welcome to Pizza Hut. My name is Christine...          1   \n",
       "23   24  Thank you for calling Pizza Hut this is Belle ...          0   \n",
       "14   15  Hi, welcome to Pizza Hut. My name is Christine...          1   \n",
       "33   34  Thank you for calling Pizza Hut. My name is Ka...          1   \n",
       "36   37  Hello, thank you for calling pizza is Mike may...          1   \n",
       "24   25  Thank you for calling Pizza Hut. This is well,...          0   \n",
       "5     6  Thanks for calling Pizza Hut. This is Jenny. M...          1   \n",
       "13   14  Pizza Hut this is she gonna get your name?My n...          0   \n",
       "42   43  Thanks for calling Pizza Hut Business Chloe ma...          0   \n",
       "34   35  Contact center my name is Maxine. May have you...          1   \n",
       "47   48  Thanks for calling Pizza Hut. This is Jenny. M...          1   \n",
       "0     1  Hi, welcome to Pizza Hut. My name is Christine...          1   \n",
       "8     9  Want to chat minimis? Karen may have your name...          0   \n",
       "\n",
       "                                        clean_reviews  \n",
       "51  thank calling pizza hut drake name pleasealrig...  \n",
       "38  welcome pizza hut irene speaking take name ple...  \n",
       "61  thank calling pizza hut shane get namemy name ...  \n",
       "60  thank calling pizza june may name pleaseyeah n...  \n",
       "50  hello thank calling pizza hut joy name pleasea...  \n",
       "20  call pizza office chloe may name pleasehi name...  \n",
       "21  welcome pizza hut name miguel name please orde...  \n",
       "4   welcome pizza hut name christine may name plea...  \n",
       "23  thank calling pizza hut belle name please andh...  \n",
       "14  welcome pizza hut name christine may name plea...  \n",
       "33  thank calling pizza hut name karen may name pl...  \n",
       "36  hello thank calling pizza mike may first name ...  \n",
       "24  thank calling pizza hut well name pleaseits ca...  \n",
       "5   thanks calling pizza hut jenny may namehello n...  \n",
       "13  pizza hut gonna get namemy name calling pick d...  \n",
       "42  thanks calling pizza hut business chloe mappin...  \n",
       "34  contact center name maxine may name pleaseyes ...  \n",
       "47  thanks calling pizza hut jenny may namehello n...  \n",
       "0   welcome pizza hut name christine may name plea...  \n",
       "8   want chat minimis karen may name please yes ca...  "
      ]
     },
     "execution_count": 9,
     "metadata": {},
     "output_type": "execute_result"
    }
   ],
   "source": [
    "data['clean_reviews'] = data['Text'].apply(text_clean)  #Calling data clean function\n",
    "data.sample(20)"
   ]
  },
  {
   "cell_type": "code",
   "execution_count": 10,
   "metadata": {},
   "outputs": [
    {
     "data": {
      "text/html": [
       "<div>\n",
       "<style scoped>\n",
       "    .dataframe tbody tr th:only-of-type {\n",
       "        vertical-align: middle;\n",
       "    }\n",
       "\n",
       "    .dataframe tbody tr th {\n",
       "        vertical-align: top;\n",
       "    }\n",
       "\n",
       "    .dataframe thead th {\n",
       "        text-align: right;\n",
       "    }\n",
       "</style>\n",
       "<table border=\"1\" class=\"dataframe\">\n",
       "  <thead>\n",
       "    <tr style=\"text-align: right;\">\n",
       "      <th></th>\n",
       "      <th>Sno</th>\n",
       "      <th>Text</th>\n",
       "      <th>Sentiment</th>\n",
       "      <th>clean_reviews</th>\n",
       "    </tr>\n",
       "  </thead>\n",
       "  <tbody>\n",
       "    <tr>\n",
       "      <th>count</th>\n",
       "      <td>65.00000</td>\n",
       "      <td>65</td>\n",
       "      <td>65.00000</td>\n",
       "      <td>65</td>\n",
       "    </tr>\n",
       "    <tr>\n",
       "      <th>unique</th>\n",
       "      <td>NaN</td>\n",
       "      <td>60</td>\n",
       "      <td>NaN</td>\n",
       "      <td>60</td>\n",
       "    </tr>\n",
       "    <tr>\n",
       "      <th>top</th>\n",
       "      <td>NaN</td>\n",
       "      <td>Hi, welcome to Pizza Hut. My name is Christine...</td>\n",
       "      <td>NaN</td>\n",
       "      <td>welcome pizza hut irene speaking take name ple...</td>\n",
       "    </tr>\n",
       "    <tr>\n",
       "      <th>freq</th>\n",
       "      <td>NaN</td>\n",
       "      <td>2</td>\n",
       "      <td>NaN</td>\n",
       "      <td>2</td>\n",
       "    </tr>\n",
       "    <tr>\n",
       "      <th>mean</th>\n",
       "      <td>33.00000</td>\n",
       "      <td>NaN</td>\n",
       "      <td>0.60000</td>\n",
       "      <td>NaN</td>\n",
       "    </tr>\n",
       "    <tr>\n",
       "      <th>std</th>\n",
       "      <td>18.90767</td>\n",
       "      <td>NaN</td>\n",
       "      <td>0.49371</td>\n",
       "      <td>NaN</td>\n",
       "    </tr>\n",
       "    <tr>\n",
       "      <th>min</th>\n",
       "      <td>1.00000</td>\n",
       "      <td>NaN</td>\n",
       "      <td>0.00000</td>\n",
       "      <td>NaN</td>\n",
       "    </tr>\n",
       "    <tr>\n",
       "      <th>25%</th>\n",
       "      <td>17.00000</td>\n",
       "      <td>NaN</td>\n",
       "      <td>0.00000</td>\n",
       "      <td>NaN</td>\n",
       "    </tr>\n",
       "    <tr>\n",
       "      <th>50%</th>\n",
       "      <td>33.00000</td>\n",
       "      <td>NaN</td>\n",
       "      <td>1.00000</td>\n",
       "      <td>NaN</td>\n",
       "    </tr>\n",
       "    <tr>\n",
       "      <th>75%</th>\n",
       "      <td>49.00000</td>\n",
       "      <td>NaN</td>\n",
       "      <td>1.00000</td>\n",
       "      <td>NaN</td>\n",
       "    </tr>\n",
       "    <tr>\n",
       "      <th>max</th>\n",
       "      <td>65.00000</td>\n",
       "      <td>NaN</td>\n",
       "      <td>1.00000</td>\n",
       "      <td>NaN</td>\n",
       "    </tr>\n",
       "  </tbody>\n",
       "</table>\n",
       "</div>"
      ],
      "text/plain": [
       "             Sno                                               Text  \\\n",
       "count   65.00000                                                 65   \n",
       "unique       NaN                                                 60   \n",
       "top          NaN  Hi, welcome to Pizza Hut. My name is Christine...   \n",
       "freq         NaN                                                  2   \n",
       "mean    33.00000                                                NaN   \n",
       "std     18.90767                                                NaN   \n",
       "min      1.00000                                                NaN   \n",
       "25%     17.00000                                                NaN   \n",
       "50%     33.00000                                                NaN   \n",
       "75%     49.00000                                                NaN   \n",
       "max     65.00000                                                NaN   \n",
       "\n",
       "        Sentiment                                      clean_reviews  \n",
       "count    65.00000                                                 65  \n",
       "unique        NaN                                                 60  \n",
       "top           NaN  welcome pizza hut irene speaking take name ple...  \n",
       "freq          NaN                                                  2  \n",
       "mean      0.60000                                                NaN  \n",
       "std       0.49371                                                NaN  \n",
       "min       0.00000                                                NaN  \n",
       "25%       0.00000                                                NaN  \n",
       "50%       1.00000                                                NaN  \n",
       "75%       1.00000                                                NaN  \n",
       "max       1.00000                                                NaN  "
      ]
     },
     "execution_count": 10,
     "metadata": {},
     "output_type": "execute_result"
    }
   ],
   "source": [
    "data.describe(include=\"all\")"
   ]
  },
  {
   "cell_type": "code",
   "execution_count": 11,
   "metadata": {},
   "outputs": [
    {
     "data": {
      "text/plain": [
       "Sno              0\n",
       "Text             0\n",
       "Sentiment        0\n",
       "clean_reviews    0\n",
       "dtype: int64"
      ]
     },
     "execution_count": 11,
     "metadata": {},
     "output_type": "execute_result"
    }
   ],
   "source": [
    "data.isnull().sum()"
   ]
  },
  {
   "cell_type": "code",
   "execution_count": 12,
   "metadata": {},
   "outputs": [
    {
     "data": {
      "text/plain": [
       "<seaborn.axisgrid.PairGrid at 0x1ba1dfe5550>"
      ]
     },
     "execution_count": 12,
     "metadata": {},
     "output_type": "execute_result"
    },
    {
     "data": {
      "image/png": "[encoded data removed]",
      "text/plain": [
       "<Figure size 239.5x180 with 2 Axes>"
      ]
     },
     "metadata": {
      "needs_background": "light"
     },
     "output_type": "display_data"
    }
   ],
   "source": [
    "# # ----------- Representing data ---------------------\n",
    "\n",
    "import seaborn as sns\n",
    "sns.pairplot(data,hue='Sentiment')"
   ]
  },
  {
   "cell_type": "code",
   "execution_count": 13,
   "metadata": {},
   "outputs": [
    {
     "data": {
      "text/plain": [
       "1    39\n",
       "0    26\n",
       "Name: Sentiment, dtype: int64"
      ]
     },
     "execution_count": 13,
     "metadata": {},
     "output_type": "execute_result"
    }
   ],
   "source": [
    "# Representing highest perchase on date\n",
    "date = data['Sentiment'].value_counts()\n",
    "date.head()"
   ]
  },
  {
   "cell_type": "code",
   "execution_count": 14,
   "metadata": {},
   "outputs": [
    {
     "data": {
      "text/plain": [
       "<matplotlib.axes._subplots.AxesSubplot at 0x1ba23cb47f0>"
      ]
     },
     "execution_count": 14,
     "metadata": {},
     "output_type": "execute_result"
    },
    {
     "data": {
      "image/png": "[encoded data removed]",
      "text/plain": [
       "<Figure size 1440x360 with 1 Axes>"
      ]
     },
     "metadata": {
      "needs_background": "light"
     },
     "output_type": "display_data"
    }
   ],
   "source": [
    "date.plot(kind='bar',figsize=(20,5))"
   ]
  },
  {
   "cell_type": "code",
   "execution_count": 15,
   "metadata": {},
   "outputs": [],
   "source": [
    "# # Representing high rating\n",
    "# rating = data['rating'].value_counts()\n",
    "# rating.head()"
   ]
  },
  {
   "cell_type": "code",
   "execution_count": 16,
   "metadata": {},
   "outputs": [],
   "source": [
    "# rating.plot(kind='bar')"
   ]
  },
  {
   "cell_type": "code",
   "execution_count": 17,
   "metadata": {},
   "outputs": [],
   "source": [
    "# variance = data['variation'].value_counts()\n",
    "# variance.head()"
   ]
  },
  {
   "cell_type": "code",
   "execution_count": 18,
   "metadata": {},
   "outputs": [],
   "source": [
    "# variance.plot(kind='bar')"
   ]
  },
  {
   "cell_type": "code",
   "execution_count": 19,
   "metadata": {},
   "outputs": [
    {
     "data": {
      "text/plain": [
       "(65, 200)"
      ]
     },
     "execution_count": 19,
     "metadata": {},
     "output_type": "execute_result"
    }
   ],
   "source": [
    "# Getting bag of words on in reviews\n",
    "from sklearn.feature_extraction.text import CountVectorizer\n",
    "vectorizer = CountVectorizer(max_features=200)\n",
    "# X = vectorizer.fit_transform(data['clean_reviews'],data['date']).toarray() #getting array of Bag of Words\n",
    "X = vectorizer.fit_transform(data['clean_reviews']).toarray() #getting array of Bag of Words\n",
    "X.shape"
   ]
  },
  {
   "cell_type": "code",
   "execution_count": 20,
   "metadata": {},
   "outputs": [
    {
     "data": {
      "text/plain": [
       "array([[0, 0, 1, ..., 2, 0, 0],\n",
       "       [0, 0, 2, ..., 0, 0, 1],\n",
       "       [0, 0, 1, ..., 0, 0, 1],\n",
       "       ...,\n",
       "       [0, 0, 0, ..., 0, 0, 0],\n",
       "       [0, 0, 0, ..., 1, 0, 0],\n",
       "       [0, 0, 0, ..., 1, 1, 0]], dtype=int64)"
      ]
     },
     "execution_count": 20,
     "metadata": {},
     "output_type": "execute_result"
    }
   ],
   "source": [
    "X\n"
   ]
  },
  {
   "cell_type": "code",
   "execution_count": 21,
   "metadata": {},
   "outputs": [],
   "source": [
    "y=pd.get_dummies(data['Sentiment']) #get_dummies --> it used for categorical variable into a series of zeros and ones\n",
    "y=y.iloc[:,1].values #getting value of second column"
   ]
  },
  {
   "cell_type": "code",
   "execution_count": 22,
   "metadata": {},
   "outputs": [],
   "source": [
    "# y = data['feedback']"
   ]
  },
  {
   "cell_type": "code",
   "execution_count": 23,
   "metadata": {},
   "outputs": [
    {
     "data": {
      "text/plain": [
       "array([1, 1, 1, 1, 1, 1, 1, 0, 0, 1, 1, 1, 1, 0, 1, 1, 1, 1, 1, 1, 1, 0,\n",
       "       0, 0, 0, 0, 1, 1, 1, 1, 1, 1, 1, 1, 1, 1, 1, 1, 1, 0, 0, 0, 0, 0,\n",
       "       0, 0, 0, 1, 1, 1, 1, 1, 1, 0, 0, 0, 0, 0, 0, 0, 1, 1, 0, 0, 0],\n",
       "      dtype=uint8)"
      ]
     },
     "execution_count": 23,
     "metadata": {},
     "output_type": "execute_result"
    }
   ],
   "source": [
    "y"
   ]
  },
  {
   "cell_type": "code",
   "execution_count": 24,
   "metadata": {},
   "outputs": [],
   "source": [
    "from sklearn.model_selection import train_test_split      #deviding data into training and test data set\n",
    "X_train, X_test, y_train, y_test = train_test_split(X, y, test_size = 0.25, random_state = 0)\n",
    "\n",
    "# X_train -> Taking dataset for training \n",
    "# X_test  -> Taking dataset for testing\n",
    "# y_train -> output(target data) for training\n",
    "# y_test  -> output(target data) for testing\n",
    "# test_size -> The ideal split is said to be 80:20 for training and testing.\n",
    "#              for our need we adjust it depending on the size of the dataset and parameter complexity.\n",
    "\n",
    "# random_state -> random state value present the state of suffle data in train and test split"
   ]
  },
  {
   "cell_type": "code",
   "execution_count": 25,
   "metadata": {},
   "outputs": [
    {
     "name": "stdout",
     "output_type": "stream",
     "text": [
      "[[0 0 0 ... 1 0 0]\n",
      " [0 1 0 ... 3 1 0]\n",
      " [0 2 0 ... 0 0 4]\n",
      " ...\n",
      " [0 0 1 ... 2 0 0]\n",
      " [0 0 0 ... 0 0 1]\n",
      " [0 0 0 ... 0 0 0]]\n"
     ]
    },
    {
     "data": {
      "text/plain": [
       "(48, 200)"
      ]
     },
     "execution_count": 25,
     "metadata": {},
     "output_type": "execute_result"
    }
   ],
   "source": [
    "print(X_train)\n",
    "X_train.shape"
   ]
  },
  {
   "cell_type": "code",
   "execution_count": 26,
   "metadata": {},
   "outputs": [
    {
     "name": "stdout",
     "output_type": "stream",
     "text": [
      "[[0 0 0 ... 0 0 1]\n",
      " [4 0 1 ... 1 0 4]\n",
      " [0 0 0 ... 1 0 0]\n",
      " ...\n",
      " [0 0 0 ... 1 0 0]\n",
      " [0 0 1 ... 2 0 0]\n",
      " [0 0 0 ... 0 0 0]]\n"
     ]
    },
    {
     "data": {
      "text/plain": [
       "(17, 200)"
      ]
     },
     "execution_count": 26,
     "metadata": {},
     "output_type": "execute_result"
    }
   ],
   "source": [
    "print(X_test)\n",
    "X_test.shape"
   ]
  },
  {
   "cell_type": "code",
   "execution_count": 27,
   "metadata": {},
   "outputs": [
    {
     "name": "stdout",
     "output_type": "stream",
     "text": [
      "[1 1 0 1 0 1 1 0 0 0 0 0 1 1 1 1 1 1 1 0 0 0 0 1 1 1 1 0 1 1 1 1 0 1 0 1 1\n",
      " 0 1 1 0 1 0 1 1 0 1 0]\n"
     ]
    },
    {
     "data": {
      "text/plain": [
       "(48,)"
      ]
     },
     "execution_count": 27,
     "metadata": {},
     "output_type": "execute_result"
    }
   ],
   "source": [
    "print(y_train)\n",
    "y_train.shape"
   ]
  },
  {
   "cell_type": "code",
   "execution_count": 28,
   "metadata": {},
   "outputs": [
    {
     "name": "stdout",
     "output_type": "stream",
     "text": [
      "[0 1 0 0 1 1 1 0 1 0 0 1 1 1 0 1 1]\n"
     ]
    },
    {
     "data": {
      "text/plain": [
       "(17,)"
      ]
     },
     "execution_count": 28,
     "metadata": {},
     "output_type": "execute_result"
    }
   ],
   "source": [
    "print(y_test)\n",
    "y_test.shape"
   ]
  },
  {
   "cell_type": "markdown",
   "metadata": {},
   "source": [
    "# # --------- Model Selection -----------"
   ]
  },
  {
   "cell_type": "code",
   "execution_count": 29,
   "metadata": {},
   "outputs": [],
   "source": [
    "# Importing library\n",
    "from sklearn import metrics\n",
    "from sklearn.metrics import accuracy_score, classification_report, confusion_matrix"
   ]
  },
  {
   "cell_type": "markdown",
   "metadata": {},
   "source": [
    "---------------- Using model Logistic regression ------------------"
   ]
  },
  {
   "cell_type": "code",
   "execution_count": 30,
   "metadata": {},
   "outputs": [
    {
     "name": "stdout",
     "output_type": "stream",
     "text": [
      "Logistic Regression Accuracy :   0.65\n",
      "Confussion Metrics :  \n",
      " [[5 2]\n",
      " [4 6]]\n",
      "Classification Report :  \n",
      "               precision    recall  f1-score   support\n",
      "\n",
      "           0       0.56      0.71      0.63         7\n",
      "           1       0.75      0.60      0.67        10\n",
      "\n",
      "    accuracy                           0.65        17\n",
      "   macro avg       0.65      0.66      0.65        17\n",
      "weighted avg       0.67      0.65      0.65        17\n",
      "\n"
     ]
    }
   ],
   "source": [
    "#Using model Logistic regression\n",
    "from sklearn import linear_model\n",
    "logistic = linear_model.LogisticRegression()\n",
    "logistic.fit(X_train, y_train)    #fitting training data in model\n",
    "pred_logistic = logistic.predict(X_test)  #getting predict value on test data\n",
    "\n",
    "score = logistic.score(X_test, y_test) #getting accuracy on predict and real data\n",
    "cm = confusion_matrix(y_test, pred_logistic)  #generating confussion metrics\n",
    "cr1 = classification_report(y_test, pred_logistic)  #generating classification report\n",
    "\n",
    "print(\"Logistic Regression Accuracy :   %0.2f\" % score)\n",
    "print(\"Confussion Metrics : \",\"\\n\",cm)\n",
    "print(\"Classification Report : \",\"\\n\",cr1)"
   ]
  },
  {
   "cell_type": "markdown",
   "metadata": {},
   "source": [
    "---------------- MultinomialNB Classifier ----------------\n"
   ]
  },
  {
   "cell_type": "code",
   "execution_count": 31,
   "metadata": {},
   "outputs": [
    {
     "name": "stdout",
     "output_type": "stream",
     "text": [
      "MultinomialNB Classifier Accuracy :   0.47\n",
      "Confussion Metrics :  \n",
      " [[3 4]\n",
      " [5 5]]\n",
      "Classification Report :  \n",
      "               precision    recall  f1-score   support\n",
      "\n",
      "           0       0.38      0.43      0.40         7\n",
      "           1       0.56      0.50      0.53        10\n",
      "\n",
      "    accuracy                           0.47        17\n",
      "   macro avg       0.47      0.46      0.46        17\n",
      "weighted avg       0.48      0.47      0.47        17\n",
      "\n"
     ]
    }
   ],
   "source": [
    "from sklearn.naive_bayes import MultinomialNB\n",
    "classifier=MultinomialNB()  \n",
    "classifier.fit(X_train, y_train)  #fitting training data in model\n",
    "\n",
    "pred_m = classifier.predict(X_test)  #getting predict value on test data\n",
    "score = metrics.accuracy_score(y_test, pred_m)  #getting accuracy on predict and real data\n",
    "cm = metrics.confusion_matrix(y_test, pred_m)   #generating confussion metrics\n",
    "cr2 = classification_report(y_test, pred_m)  #generating classification report\n",
    "\n",
    "print(\"MultinomialNB Classifier Accuracy :   %0.2f\" % score)\n",
    "print(\"Confussion Metrics : \",\"\\n\",cm)\n",
    "print(\"Classification Report : \",\"\\n\",cr2)"
   ]
  },
  {
   "cell_type": "markdown",
   "metadata": {},
   "source": [
    "------------- KNeighbors Classifier ---------------"
   ]
  },
  {
   "cell_type": "code",
   "execution_count": 32,
   "metadata": {},
   "outputs": [
    {
     "name": "stdout",
     "output_type": "stream",
     "text": [
      "KNN Classifier Accuracy :   0.35\n",
      "Confussion Metrics :  \n",
      " [[1 6]\n",
      " [5 5]]\n",
      "Classification Report :  \n",
      "               precision    recall  f1-score   support\n",
      "\n",
      "           0       0.17      0.14      0.15         7\n",
      "           1       0.45      0.50      0.48        10\n",
      "\n",
      "    accuracy                           0.35        17\n",
      "   macro avg       0.31      0.32      0.32        17\n",
      "weighted avg       0.34      0.35      0.34        17\n",
      "\n"
     ]
    }
   ],
   "source": [
    "from sklearn import neighbors\n",
    "knn = neighbors.KNeighborsClassifier()\n",
    "knn.fit(X_train, y_train)  #fitting training data in model\n",
    "\n",
    "pred_knn = knn.predict(X_test)  #getting predict value on test data\n",
    "score = metrics.accuracy_score(y_test, pred_knn) #getting accuracy on predict and real data\n",
    "cm = metrics.confusion_matrix(y_test, pred_knn)\n",
    "cr3 = classification_report(y_test, pred_knn)\n",
    "\n",
    "print(\"KNN Classifier Accuracy :   %0.2f\" % score)\n",
    "print(\"Confussion Metrics : \",\"\\n\",cm)\n",
    "print(\"Classification Report : \",\"\\n\",cr3)"
   ]
  },
  {
   "cell_type": "code",
   "execution_count": null,
   "metadata": {},
   "outputs": [],
   "source": []
  }
 ],
 "metadata": {
  "kernelspec": {
   "display_name": "Python 3",
   "language": "python",
   "name": "python3"
  },
  "language_info": {
   "codemirror_mode": {
    "name": "ipython",
    "version": 3
   },
   "file_extension": ".py",
   "mimetype": "text/x-python",
   "name": "python",
   "nbconvert_exporter": "python",
   "pygments_lexer": "ipython3",
   "version": "3.8.5"
  }
 },
 "nbformat": 4,
 "nbformat_minor": 4
}
