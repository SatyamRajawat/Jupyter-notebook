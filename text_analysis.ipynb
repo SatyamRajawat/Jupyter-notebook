{
 "cells": [
  {
   "cell_type": "code",
   "execution_count": 1,
   "metadata": {},
   "outputs": [],
   "source": [
    "# import Library\n",
    "import pandas as pd\n",
    "import nltk"
   ]
  },
  {
   "cell_type": "code",
   "execution_count": 2,
   "metadata": {},
   "outputs": [],
   "source": [
    "# Reading Dataset\n",
    "data = pd.read_csv('dataset/amazon.tsv',sep='\\t')"
   ]
  },
  {
   "cell_type": "code",
   "execution_count": 3,
   "metadata": {},
   "outputs": [],
   "source": [
    "# data = data[['rating','date','verified_reviews']]"
   ]
  },
  {
   "cell_type": "code",
   "execution_count": 4,
   "metadata": {},
   "outputs": [
    {
     "data": {
      "text/html": [
       "<div>\n",
       "<style scoped>\n",
       "    .dataframe tbody tr th:only-of-type {\n",
       "        vertical-align: middle;\n",
       "    }\n",
       "\n",
       "    .dataframe tbody tr th {\n",
       "        vertical-align: top;\n",
       "    }\n",
       "\n",
       "    .dataframe thead th {\n",
       "        text-align: right;\n",
       "    }\n",
       "</style>\n",
       "<table border=\"1\" class=\"dataframe\">\n",
       "  <thead>\n",
       "    <tr style=\"text-align: right;\">\n",
       "      <th></th>\n",
       "      <th>rating</th>\n",
       "      <th>date</th>\n",
       "      <th>variation</th>\n",
       "      <th>verified_reviews</th>\n",
       "      <th>feedback</th>\n",
       "    </tr>\n",
       "  </thead>\n",
       "  <tbody>\n",
       "    <tr>\n",
       "      <th>0</th>\n",
       "      <td>5</td>\n",
       "      <td>31-Jul-18</td>\n",
       "      <td>Charcoal Fabric</td>\n",
       "      <td>Love my Echo!</td>\n",
       "      <td>1</td>\n",
       "    </tr>\n",
       "    <tr>\n",
       "      <th>1</th>\n",
       "      <td>5</td>\n",
       "      <td>31-Jul-18</td>\n",
       "      <td>Charcoal Fabric</td>\n",
       "      <td>Loved it!</td>\n",
       "      <td>1</td>\n",
       "    </tr>\n",
       "    <tr>\n",
       "      <th>2</th>\n",
       "      <td>4</td>\n",
       "      <td>31-Jul-18</td>\n",
       "      <td>Walnut Finish</td>\n",
       "      <td>Sometimes while playing a game, you can answer...</td>\n",
       "      <td>1</td>\n",
       "    </tr>\n",
       "    <tr>\n",
       "      <th>3</th>\n",
       "      <td>5</td>\n",
       "      <td>31-Jul-18</td>\n",
       "      <td>Charcoal Fabric</td>\n",
       "      <td>I have had a lot of fun with this thing. My 4 ...</td>\n",
       "      <td>1</td>\n",
       "    </tr>\n",
       "    <tr>\n",
       "      <th>4</th>\n",
       "      <td>5</td>\n",
       "      <td>31-Jul-18</td>\n",
       "      <td>Charcoal Fabric</td>\n",
       "      <td>Music</td>\n",
       "      <td>1</td>\n",
       "    </tr>\n",
       "    <tr>\n",
       "      <th>5</th>\n",
       "      <td>5</td>\n",
       "      <td>31-Jul-18</td>\n",
       "      <td>Heather Gray Fabric</td>\n",
       "      <td>I received the echo as a gift. I needed anothe...</td>\n",
       "      <td>1</td>\n",
       "    </tr>\n",
       "    <tr>\n",
       "      <th>6</th>\n",
       "      <td>3</td>\n",
       "      <td>31-Jul-18</td>\n",
       "      <td>Sandstone Fabric</td>\n",
       "      <td>Without having a cellphone, I cannot use many ...</td>\n",
       "      <td>1</td>\n",
       "    </tr>\n",
       "    <tr>\n",
       "      <th>7</th>\n",
       "      <td>5</td>\n",
       "      <td>31-Jul-18</td>\n",
       "      <td>Charcoal Fabric</td>\n",
       "      <td>I think this is the 5th one I've purchased. I'...</td>\n",
       "      <td>1</td>\n",
       "    </tr>\n",
       "    <tr>\n",
       "      <th>8</th>\n",
       "      <td>5</td>\n",
       "      <td>30-Jul-18</td>\n",
       "      <td>Heather Gray Fabric</td>\n",
       "      <td>looks great</td>\n",
       "      <td>1</td>\n",
       "    </tr>\n",
       "    <tr>\n",
       "      <th>9</th>\n",
       "      <td>5</td>\n",
       "      <td>30-Jul-18</td>\n",
       "      <td>Heather Gray Fabric</td>\n",
       "      <td>Love it! I’ve listened to songs I haven’t hear...</td>\n",
       "      <td>1</td>\n",
       "    </tr>\n",
       "    <tr>\n",
       "      <th>10</th>\n",
       "      <td>5</td>\n",
       "      <td>30-Jul-18</td>\n",
       "      <td>Charcoal Fabric</td>\n",
       "      <td>I sent it to my 85 year old Dad, and he talks ...</td>\n",
       "      <td>1</td>\n",
       "    </tr>\n",
       "    <tr>\n",
       "      <th>11</th>\n",
       "      <td>5</td>\n",
       "      <td>30-Jul-18</td>\n",
       "      <td>Charcoal Fabric</td>\n",
       "      <td>I love it! Learning knew things with it eveyda...</td>\n",
       "      <td>1</td>\n",
       "    </tr>\n",
       "    <tr>\n",
       "      <th>12</th>\n",
       "      <td>5</td>\n",
       "      <td>30-Jul-18</td>\n",
       "      <td>Oak Finish</td>\n",
       "      <td>I purchased this for my mother who is having k...</td>\n",
       "      <td>1</td>\n",
       "    </tr>\n",
       "    <tr>\n",
       "      <th>13</th>\n",
       "      <td>5</td>\n",
       "      <td>30-Jul-18</td>\n",
       "      <td>Charcoal Fabric</td>\n",
       "      <td>Love, Love, Love!!</td>\n",
       "      <td>1</td>\n",
       "    </tr>\n",
       "    <tr>\n",
       "      <th>14</th>\n",
       "      <td>5</td>\n",
       "      <td>30-Jul-18</td>\n",
       "      <td>Oak Finish</td>\n",
       "      <td>Just what I expected....</td>\n",
       "      <td>1</td>\n",
       "    </tr>\n",
       "    <tr>\n",
       "      <th>15</th>\n",
       "      <td>5</td>\n",
       "      <td>30-Jul-18</td>\n",
       "      <td>Heather Gray Fabric</td>\n",
       "      <td>I love it, wife hates it.</td>\n",
       "      <td>1</td>\n",
       "    </tr>\n",
       "    <tr>\n",
       "      <th>16</th>\n",
       "      <td>5</td>\n",
       "      <td>30-Jul-18</td>\n",
       "      <td>Heather Gray Fabric</td>\n",
       "      <td>Really happy with this purchase.  Great speake...</td>\n",
       "      <td>1</td>\n",
       "    </tr>\n",
       "    <tr>\n",
       "      <th>17</th>\n",
       "      <td>5</td>\n",
       "      <td>30-Jul-18</td>\n",
       "      <td>Heather Gray Fabric</td>\n",
       "      <td>We have only been using Alexa for a couple of ...</td>\n",
       "      <td>1</td>\n",
       "    </tr>\n",
       "    <tr>\n",
       "      <th>18</th>\n",
       "      <td>5</td>\n",
       "      <td>30-Jul-18</td>\n",
       "      <td>Charcoal Fabric</td>\n",
       "      <td>We love the size of the 2nd generation echo. S...</td>\n",
       "      <td>1</td>\n",
       "    </tr>\n",
       "    <tr>\n",
       "      <th>19</th>\n",
       "      <td>4</td>\n",
       "      <td>30-Jul-18</td>\n",
       "      <td>Sandstone Fabric</td>\n",
       "      <td>I liked the original Echo. This is the same bu...</td>\n",
       "      <td>1</td>\n",
       "    </tr>\n",
       "    <tr>\n",
       "      <th>20</th>\n",
       "      <td>5</td>\n",
       "      <td>30-Jul-18</td>\n",
       "      <td>Charcoal Fabric</td>\n",
       "      <td>Love the Echo and how good the music sounds pl...</td>\n",
       "      <td>1</td>\n",
       "    </tr>\n",
       "    <tr>\n",
       "      <th>21</th>\n",
       "      <td>5</td>\n",
       "      <td>30-Jul-18</td>\n",
       "      <td>Charcoal Fabric</td>\n",
       "      <td>We love Alexa! We use her to play music, play ...</td>\n",
       "      <td>1</td>\n",
       "    </tr>\n",
       "    <tr>\n",
       "      <th>22</th>\n",
       "      <td>4</td>\n",
       "      <td>30-Jul-18</td>\n",
       "      <td>Heather Gray Fabric</td>\n",
       "      <td>Have only had it set up for a few days. Still ...</td>\n",
       "      <td>1</td>\n",
       "    </tr>\n",
       "    <tr>\n",
       "      <th>23</th>\n",
       "      <td>5</td>\n",
       "      <td>30-Jul-18</td>\n",
       "      <td>Charcoal Fabric</td>\n",
       "      <td>I love it. It plays my sleep sounds immediatel...</td>\n",
       "      <td>1</td>\n",
       "    </tr>\n",
       "    <tr>\n",
       "      <th>24</th>\n",
       "      <td>3</td>\n",
       "      <td>30-Jul-18</td>\n",
       "      <td>Sandstone Fabric</td>\n",
       "      <td>I got a second unit for the bedroom, I was exp...</td>\n",
       "      <td>1</td>\n",
       "    </tr>\n",
       "    <tr>\n",
       "      <th>25</th>\n",
       "      <td>5</td>\n",
       "      <td>30-Jul-18</td>\n",
       "      <td>Sandstone Fabric</td>\n",
       "      <td>Amazing product</td>\n",
       "      <td>1</td>\n",
       "    </tr>\n",
       "    <tr>\n",
       "      <th>26</th>\n",
       "      <td>5</td>\n",
       "      <td>30-Jul-18</td>\n",
       "      <td>Charcoal Fabric</td>\n",
       "      <td>I love my Echo. It's easy to operate, loads of...</td>\n",
       "      <td>1</td>\n",
       "    </tr>\n",
       "    <tr>\n",
       "      <th>27</th>\n",
       "      <td>5</td>\n",
       "      <td>30-Jul-18</td>\n",
       "      <td>Charcoal Fabric</td>\n",
       "      <td>Sounds great!! Love them!</td>\n",
       "      <td>1</td>\n",
       "    </tr>\n",
       "    <tr>\n",
       "      <th>28</th>\n",
       "      <td>4</td>\n",
       "      <td>30-Jul-18</td>\n",
       "      <td>Charcoal Fabric</td>\n",
       "      <td>Fun item to play with and get used to using.  ...</td>\n",
       "      <td>1</td>\n",
       "    </tr>\n",
       "    <tr>\n",
       "      <th>29</th>\n",
       "      <td>5</td>\n",
       "      <td>30-Jul-18</td>\n",
       "      <td>Charcoal Fabric</td>\n",
       "      <td>Just like the other one</td>\n",
       "      <td>1</td>\n",
       "    </tr>\n",
       "  </tbody>\n",
       "</table>\n",
       "</div>"
      ],
      "text/plain": [
       "    rating       date             variation  \\\n",
       "0        5  31-Jul-18      Charcoal Fabric    \n",
       "1        5  31-Jul-18      Charcoal Fabric    \n",
       "2        4  31-Jul-18        Walnut Finish    \n",
       "3        5  31-Jul-18      Charcoal Fabric    \n",
       "4        5  31-Jul-18      Charcoal Fabric    \n",
       "5        5  31-Jul-18  Heather Gray Fabric    \n",
       "6        3  31-Jul-18     Sandstone Fabric    \n",
       "7        5  31-Jul-18      Charcoal Fabric    \n",
       "8        5  30-Jul-18  Heather Gray Fabric    \n",
       "9        5  30-Jul-18  Heather Gray Fabric    \n",
       "10       5  30-Jul-18      Charcoal Fabric    \n",
       "11       5  30-Jul-18      Charcoal Fabric    \n",
       "12       5  30-Jul-18           Oak Finish    \n",
       "13       5  30-Jul-18      Charcoal Fabric    \n",
       "14       5  30-Jul-18           Oak Finish    \n",
       "15       5  30-Jul-18  Heather Gray Fabric    \n",
       "16       5  30-Jul-18  Heather Gray Fabric    \n",
       "17       5  30-Jul-18  Heather Gray Fabric    \n",
       "18       5  30-Jul-18      Charcoal Fabric    \n",
       "19       4  30-Jul-18     Sandstone Fabric    \n",
       "20       5  30-Jul-18      Charcoal Fabric    \n",
       "21       5  30-Jul-18      Charcoal Fabric    \n",
       "22       4  30-Jul-18  Heather Gray Fabric    \n",
       "23       5  30-Jul-18      Charcoal Fabric    \n",
       "24       3  30-Jul-18     Sandstone Fabric    \n",
       "25       5  30-Jul-18     Sandstone Fabric    \n",
       "26       5  30-Jul-18      Charcoal Fabric    \n",
       "27       5  30-Jul-18      Charcoal Fabric    \n",
       "28       4  30-Jul-18      Charcoal Fabric    \n",
       "29       5  30-Jul-18      Charcoal Fabric    \n",
       "\n",
       "                                     verified_reviews  feedback  \n",
       "0                                       Love my Echo!         1  \n",
       "1                                           Loved it!         1  \n",
       "2   Sometimes while playing a game, you can answer...         1  \n",
       "3   I have had a lot of fun with this thing. My 4 ...         1  \n",
       "4                                               Music         1  \n",
       "5   I received the echo as a gift. I needed anothe...         1  \n",
       "6   Without having a cellphone, I cannot use many ...         1  \n",
       "7   I think this is the 5th one I've purchased. I'...         1  \n",
       "8                                         looks great         1  \n",
       "9   Love it! I’ve listened to songs I haven’t hear...         1  \n",
       "10  I sent it to my 85 year old Dad, and he talks ...         1  \n",
       "11  I love it! Learning knew things with it eveyda...         1  \n",
       "12  I purchased this for my mother who is having k...         1  \n",
       "13                                 Love, Love, Love!!         1  \n",
       "14                           Just what I expected....         1  \n",
       "15                          I love it, wife hates it.         1  \n",
       "16  Really happy with this purchase.  Great speake...         1  \n",
       "17  We have only been using Alexa for a couple of ...         1  \n",
       "18  We love the size of the 2nd generation echo. S...         1  \n",
       "19  I liked the original Echo. This is the same bu...         1  \n",
       "20  Love the Echo and how good the music sounds pl...         1  \n",
       "21  We love Alexa! We use her to play music, play ...         1  \n",
       "22  Have only had it set up for a few days. Still ...         1  \n",
       "23  I love it. It plays my sleep sounds immediatel...         1  \n",
       "24  I got a second unit for the bedroom, I was exp...         1  \n",
       "25                                    Amazing product         1  \n",
       "26  I love my Echo. It's easy to operate, loads of...         1  \n",
       "27                          Sounds great!! Love them!         1  \n",
       "28  Fun item to play with and get used to using.  ...         1  \n",
       "29                            Just like the other one         1  "
      ]
     },
     "execution_count": 4,
     "metadata": {},
     "output_type": "execute_result"
    }
   ],
   "source": [
    "data.head(30)"
   ]
  },
  {
   "cell_type": "code",
   "execution_count": 5,
   "metadata": {},
   "outputs": [
    {
     "name": "stdout",
     "output_type": "stream",
     "text": [
      "<class 'pandas.core.frame.DataFrame'>\n",
      "RangeIndex: 3150 entries, 0 to 3149\n",
      "Data columns (total 5 columns):\n",
      " #   Column            Non-Null Count  Dtype \n",
      "---  ------            --------------  ----- \n",
      " 0   rating            3150 non-null   int64 \n",
      " 1   date              3150 non-null   object\n",
      " 2   variation         3150 non-null   object\n",
      " 3   verified_reviews  3150 non-null   object\n",
      " 4   feedback          3150 non-null   int64 \n",
      "dtypes: int64(2), object(3)\n",
      "memory usage: 123.2+ KB\n"
     ]
    }
   ],
   "source": [
    "# Showing file information\n",
    "\n",
    "# Column Name      ->       Discription\n",
    "# ------------------------------------------------------------------------\n",
    "# Rating           ->       satisfaction value of range [1,5]\n",
    "# date             ->       date of item purchased\n",
    "# variation        ->       When we shop online, the same product is available in various sizes, colors,materials\n",
    "#                           and price points. These purchasing options are product variants.\n",
    "# verified_reviews ->       Feedback by customers \n",
    "# feedback         ->       value of verified_reviews positive(1) or negative(0)\n",
    "\n",
    "data.info()"
   ]
  },
  {
   "cell_type": "code",
   "execution_count": 6,
   "metadata": {},
   "outputs": [],
   "source": [
    "# ========== Performing Cleaning operations on Data ==============\n",
    "\n",
    "# importing Libraries\n",
    "\n",
    "from nltk.corpus import stopwords\n",
    "from nltk.stem import WordNetLemmatizer\n",
    "import string\n",
    "lemmatizer = WordNetLemmatizer()\n",
    "punct = string.punctuation\n",
    "stopwords = set(stopwords.words('english'))\n",
    "\n",
    "\n",
    "def text_clean(text):\n",
    "    text = text.lower()  #Convert text in lower case\n",
    "    punc_removed = [char for char in text if char not in punct]  #Removing Punctuations\n",
    "    punc_removed_join = ''.join(punc_removed)\n",
    "    \n",
    "    #Lemmatizing and removing Stop words\n",
    "    punc_removed_clean = [lemmatizer.lemmatize(word) for word in punc_removed_join.split() if word not in stopwords]\n",
    "    \n",
    "    #Removing word those length is 1 or 2\n",
    "    punc_removed_clean = [word for word in punc_removed_clean if len(word) > 2] \n",
    "    punc_removed_clean_join = ' '.join(punc_removed_clean)\n",
    "    \n",
    "    return punc_removed_clean_join"
   ]
  },
  {
   "cell_type": "code",
   "execution_count": 7,
   "metadata": {},
   "outputs": [
    {
     "data": {
      "text/html": [
       "<div>\n",
       "<style scoped>\n",
       "    .dataframe tbody tr th:only-of-type {\n",
       "        vertical-align: middle;\n",
       "    }\n",
       "\n",
       "    .dataframe tbody tr th {\n",
       "        vertical-align: top;\n",
       "    }\n",
       "\n",
       "    .dataframe thead th {\n",
       "        text-align: right;\n",
       "    }\n",
       "</style>\n",
       "<table border=\"1\" class=\"dataframe\">\n",
       "  <thead>\n",
       "    <tr style=\"text-align: right;\">\n",
       "      <th></th>\n",
       "      <th>rating</th>\n",
       "      <th>date</th>\n",
       "      <th>variation</th>\n",
       "      <th>verified_reviews</th>\n",
       "      <th>feedback</th>\n",
       "      <th>clean_reviews</th>\n",
       "    </tr>\n",
       "  </thead>\n",
       "  <tbody>\n",
       "    <tr>\n",
       "      <th>2439</th>\n",
       "      <td>1</td>\n",
       "      <td>30-Jul-18</td>\n",
       "      <td>Configuration: Fire TV Stick</td>\n",
       "      <td>Seems to work ok, but no youtube tv?  Really? ...</td>\n",
       "      <td>0</td>\n",
       "      <td>seems work youtube really cant believe would b...</td>\n",
       "    </tr>\n",
       "    <tr>\n",
       "      <th>2544</th>\n",
       "      <td>5</td>\n",
       "      <td>30-Jul-18</td>\n",
       "      <td>Black  Dot</td>\n",
       "      <td>Love it!! Don’t know what took me so long to g...</td>\n",
       "      <td>1</td>\n",
       "      <td>love don’t know took long get one don’t know d...</td>\n",
       "    </tr>\n",
       "    <tr>\n",
       "      <th>117</th>\n",
       "      <td>5</td>\n",
       "      <td>30-Jul-18</td>\n",
       "      <td>Charcoal Fabric</td>\n",
       "      <td>It's Alexa.... what else can you say</td>\n",
       "      <td>1</td>\n",
       "      <td>alexa else say</td>\n",
       "    </tr>\n",
       "    <tr>\n",
       "      <th>928</th>\n",
       "      <td>2</td>\n",
       "      <td>29-Jul-18</td>\n",
       "      <td>Sandstone Fabric</td>\n",
       "      <td>I am not super impressed with Alexa. When my P...</td>\n",
       "      <td>0</td>\n",
       "      <td>super impressed alexa prime lapsed wouldnt pla...</td>\n",
       "    </tr>\n",
       "    <tr>\n",
       "      <th>392</th>\n",
       "      <td>5</td>\n",
       "      <td>23-Jul-18</td>\n",
       "      <td>Black</td>\n",
       "      <td>Awesome. I love Alexa.</td>\n",
       "      <td>1</td>\n",
       "      <td>awesome love alexa</td>\n",
       "    </tr>\n",
       "    <tr>\n",
       "      <th>955</th>\n",
       "      <td>5</td>\n",
       "      <td>29-Jul-18</td>\n",
       "      <td>Heather Gray Fabric</td>\n",
       "      <td>Have Alexa throughout the house----the future ...</td>\n",
       "      <td>1</td>\n",
       "      <td>alexa throughout housethe future arrived</td>\n",
       "    </tr>\n",
       "    <tr>\n",
       "      <th>1555</th>\n",
       "      <td>5</td>\n",
       "      <td>30-Jul-18</td>\n",
       "      <td>Black  Show</td>\n",
       "      <td>Just like any other echo. Doesn’t disappoint</td>\n",
       "      <td>1</td>\n",
       "      <td>like echo doesn’t disappoint</td>\n",
       "    </tr>\n",
       "    <tr>\n",
       "      <th>2454</th>\n",
       "      <td>5</td>\n",
       "      <td>31-Jul-18</td>\n",
       "      <td>Black  Dot</td>\n",
       "      <td>Family loved it!</td>\n",
       "      <td>1</td>\n",
       "      <td>family loved</td>\n",
       "    </tr>\n",
       "    <tr>\n",
       "      <th>3032</th>\n",
       "      <td>5</td>\n",
       "      <td>30-Jul-18</td>\n",
       "      <td>Black  Dot</td>\n",
       "      <td>Great addition to my Alexa base. Using it in m...</td>\n",
       "      <td>1</td>\n",
       "      <td>great addition alexa base using guest bedroom ...</td>\n",
       "    </tr>\n",
       "    <tr>\n",
       "      <th>1219</th>\n",
       "      <td>5</td>\n",
       "      <td>27-Jul-18</td>\n",
       "      <td>White  Spot</td>\n",
       "      <td>This product has made my life much simpler wit...</td>\n",
       "      <td>1</td>\n",
       "      <td>product made life much simpler little one use ...</td>\n",
       "    </tr>\n",
       "    <tr>\n",
       "      <th>514</th>\n",
       "      <td>5</td>\n",
       "      <td>21-Jun-18</td>\n",
       "      <td>Black</td>\n",
       "      <td>Great! Just like new!</td>\n",
       "      <td>1</td>\n",
       "      <td>great like new</td>\n",
       "    </tr>\n",
       "    <tr>\n",
       "      <th>141</th>\n",
       "      <td>1</td>\n",
       "      <td>30-Jul-18</td>\n",
       "      <td>Charcoal Fabric</td>\n",
       "      <td>Not much features.</td>\n",
       "      <td>0</td>\n",
       "      <td>much feature</td>\n",
       "    </tr>\n",
       "    <tr>\n",
       "      <th>1695</th>\n",
       "      <td>5</td>\n",
       "      <td>28-Jul-18</td>\n",
       "      <td>Black  Show</td>\n",
       "      <td>This was an impulse buy and I am super happy I...</td>\n",
       "      <td>1</td>\n",
       "      <td>impulse buy super happy made purchase love muc...</td>\n",
       "    </tr>\n",
       "    <tr>\n",
       "      <th>2487</th>\n",
       "      <td>5</td>\n",
       "      <td>30-Jul-18</td>\n",
       "      <td>Black  Dot</td>\n",
       "      <td>I LOVE ALEXA!! SHE ROCKS!!!</td>\n",
       "      <td>1</td>\n",
       "      <td>love alexa rock</td>\n",
       "    </tr>\n",
       "    <tr>\n",
       "      <th>470</th>\n",
       "      <td>1</td>\n",
       "      <td>1-Jul-18</td>\n",
       "      <td>White</td>\n",
       "      <td>This item did not work. Certified refurbished ...</td>\n",
       "      <td>0</td>\n",
       "      <td>item work certified refurbished mean work adve...</td>\n",
       "    </tr>\n",
       "    <tr>\n",
       "      <th>2649</th>\n",
       "      <td>3</td>\n",
       "      <td>30-Jul-18</td>\n",
       "      <td>Black  Dot</td>\n",
       "      <td>The sound quality wasn’t great, but it was ine...</td>\n",
       "      <td>1</td>\n",
       "      <td>sound quality wasn’t great inexpensive</td>\n",
       "    </tr>\n",
       "    <tr>\n",
       "      <th>2038</th>\n",
       "      <td>3</td>\n",
       "      <td>16-Jul-18</td>\n",
       "      <td>Black  Plus</td>\n",
       "      <td>Pros- plenty loud for a large room with high c...</td>\n",
       "      <td>1</td>\n",
       "      <td>pro plenty loud large room high ceilingscons h...</td>\n",
       "    </tr>\n",
       "    <tr>\n",
       "      <th>1040</th>\n",
       "      <td>5</td>\n",
       "      <td>28-Jul-18</td>\n",
       "      <td>Charcoal Fabric</td>\n",
       "      <td>Works great.</td>\n",
       "      <td>1</td>\n",
       "      <td>work great</td>\n",
       "    </tr>\n",
       "    <tr>\n",
       "      <th>1780</th>\n",
       "      <td>4</td>\n",
       "      <td>30-Jul-18</td>\n",
       "      <td>Black  Plus</td>\n",
       "      <td>Tons of features and skills, and a very good s...</td>\n",
       "      <td>1</td>\n",
       "      <td>ton feature skill good speaker plenty bass mus...</td>\n",
       "    </tr>\n",
       "    <tr>\n",
       "      <th>132</th>\n",
       "      <td>4</td>\n",
       "      <td>30-Jul-18</td>\n",
       "      <td>Charcoal Fabric</td>\n",
       "      <td>It's better than the 1st gen in every way exce...</td>\n",
       "      <td>1</td>\n",
       "      <td>better 1st gen every way except one really mis...</td>\n",
       "    </tr>\n",
       "  </tbody>\n",
       "</table>\n",
       "</div>"
      ],
      "text/plain": [
       "      rating       date                     variation  \\\n",
       "2439       1  30-Jul-18  Configuration: Fire TV Stick   \n",
       "2544       5  30-Jul-18                    Black  Dot   \n",
       "117        5  30-Jul-18              Charcoal Fabric    \n",
       "928        2  29-Jul-18             Sandstone Fabric    \n",
       "392        5  23-Jul-18                         Black   \n",
       "955        5  29-Jul-18          Heather Gray Fabric    \n",
       "1555       5  30-Jul-18                   Black  Show   \n",
       "2454       5  31-Jul-18                    Black  Dot   \n",
       "3032       5  30-Jul-18                    Black  Dot   \n",
       "1219       5  27-Jul-18                   White  Spot   \n",
       "514        5  21-Jun-18                         Black   \n",
       "141        1  30-Jul-18              Charcoal Fabric    \n",
       "1695       5  28-Jul-18                   Black  Show   \n",
       "2487       5  30-Jul-18                    Black  Dot   \n",
       "470        1   1-Jul-18                         White   \n",
       "2649       3  30-Jul-18                    Black  Dot   \n",
       "2038       3  16-Jul-18                   Black  Plus   \n",
       "1040       5  28-Jul-18              Charcoal Fabric    \n",
       "1780       4  30-Jul-18                   Black  Plus   \n",
       "132        4  30-Jul-18              Charcoal Fabric    \n",
       "\n",
       "                                       verified_reviews  feedback  \\\n",
       "2439  Seems to work ok, but no youtube tv?  Really? ...         0   \n",
       "2544  Love it!! Don’t know what took me so long to g...         1   \n",
       "117                It's Alexa.... what else can you say         1   \n",
       "928   I am not super impressed with Alexa. When my P...         0   \n",
       "392                              Awesome. I love Alexa.         1   \n",
       "955   Have Alexa throughout the house----the future ...         1   \n",
       "1555       Just like any other echo. Doesn’t disappoint         1   \n",
       "2454                                   Family loved it!         1   \n",
       "3032  Great addition to my Alexa base. Using it in m...         1   \n",
       "1219  This product has made my life much simpler wit...         1   \n",
       "514                               Great! Just like new!         1   \n",
       "141                                  Not much features.         0   \n",
       "1695  This was an impulse buy and I am super happy I...         1   \n",
       "2487                        I LOVE ALEXA!! SHE ROCKS!!!         1   \n",
       "470   This item did not work. Certified refurbished ...         0   \n",
       "2649  The sound quality wasn’t great, but it was ine...         1   \n",
       "2038  Pros- plenty loud for a large room with high c...         1   \n",
       "1040                                       Works great.         1   \n",
       "1780  Tons of features and skills, and a very good s...         1   \n",
       "132   It's better than the 1st gen in every way exce...         1   \n",
       "\n",
       "                                          clean_reviews  \n",
       "2439  seems work youtube really cant believe would b...  \n",
       "2544  love don’t know took long get one don’t know d...  \n",
       "117                                      alexa else say  \n",
       "928   super impressed alexa prime lapsed wouldnt pla...  \n",
       "392                                  awesome love alexa  \n",
       "955            alexa throughout housethe future arrived  \n",
       "1555                       like echo doesn’t disappoint  \n",
       "2454                                       family loved  \n",
       "3032  great addition alexa base using guest bedroom ...  \n",
       "1219  product made life much simpler little one use ...  \n",
       "514                                      great like new  \n",
       "141                                        much feature  \n",
       "1695  impulse buy super happy made purchase love muc...  \n",
       "2487                                    love alexa rock  \n",
       "470   item work certified refurbished mean work adve...  \n",
       "2649             sound quality wasn’t great inexpensive  \n",
       "2038  pro plenty loud large room high ceilingscons h...  \n",
       "1040                                         work great  \n",
       "1780  ton feature skill good speaker plenty bass mus...  \n",
       "132   better 1st gen every way except one really mis...  "
      ]
     },
     "execution_count": 7,
     "metadata": {},
     "output_type": "execute_result"
    }
   ],
   "source": [
    "data['clean_reviews'] = data['verified_reviews'].apply(text_clean)  #Calling data clean function\n",
    "data.sample(20)\n"
   ]
  },
  {
   "cell_type": "code",
   "execution_count": 8,
   "metadata": {},
   "outputs": [
    {
     "data": {
      "text/html": [
       "<div>\n",
       "<style scoped>\n",
       "    .dataframe tbody tr th:only-of-type {\n",
       "        vertical-align: middle;\n",
       "    }\n",
       "\n",
       "    .dataframe tbody tr th {\n",
       "        vertical-align: top;\n",
       "    }\n",
       "\n",
       "    .dataframe thead th {\n",
       "        text-align: right;\n",
       "    }\n",
       "</style>\n",
       "<table border=\"1\" class=\"dataframe\">\n",
       "  <thead>\n",
       "    <tr style=\"text-align: right;\">\n",
       "      <th></th>\n",
       "      <th>rating</th>\n",
       "      <th>date</th>\n",
       "      <th>variation</th>\n",
       "      <th>verified_reviews</th>\n",
       "      <th>feedback</th>\n",
       "      <th>clean_reviews</th>\n",
       "    </tr>\n",
       "  </thead>\n",
       "  <tbody>\n",
       "    <tr>\n",
       "      <th>count</th>\n",
       "      <td>3150.000000</td>\n",
       "      <td>3150</td>\n",
       "      <td>3150</td>\n",
       "      <td>3150</td>\n",
       "      <td>3150.000000</td>\n",
       "      <td>3150</td>\n",
       "    </tr>\n",
       "    <tr>\n",
       "      <th>unique</th>\n",
       "      <td>NaN</td>\n",
       "      <td>77</td>\n",
       "      <td>16</td>\n",
       "      <td>2301</td>\n",
       "      <td>NaN</td>\n",
       "      <td>2180</td>\n",
       "    </tr>\n",
       "    <tr>\n",
       "      <th>top</th>\n",
       "      <td>NaN</td>\n",
       "      <td>30-Jul-18</td>\n",
       "      <td>Black  Dot</td>\n",
       "      <td></td>\n",
       "      <td>NaN</td>\n",
       "      <td></td>\n",
       "    </tr>\n",
       "    <tr>\n",
       "      <th>freq</th>\n",
       "      <td>NaN</td>\n",
       "      <td>1603</td>\n",
       "      <td>516</td>\n",
       "      <td>79</td>\n",
       "      <td>NaN</td>\n",
       "      <td>86</td>\n",
       "    </tr>\n",
       "    <tr>\n",
       "      <th>mean</th>\n",
       "      <td>4.463175</td>\n",
       "      <td>NaN</td>\n",
       "      <td>NaN</td>\n",
       "      <td>NaN</td>\n",
       "      <td>0.918413</td>\n",
       "      <td>NaN</td>\n",
       "    </tr>\n",
       "    <tr>\n",
       "      <th>std</th>\n",
       "      <td>1.068506</td>\n",
       "      <td>NaN</td>\n",
       "      <td>NaN</td>\n",
       "      <td>NaN</td>\n",
       "      <td>0.273778</td>\n",
       "      <td>NaN</td>\n",
       "    </tr>\n",
       "    <tr>\n",
       "      <th>min</th>\n",
       "      <td>1.000000</td>\n",
       "      <td>NaN</td>\n",
       "      <td>NaN</td>\n",
       "      <td>NaN</td>\n",
       "      <td>0.000000</td>\n",
       "      <td>NaN</td>\n",
       "    </tr>\n",
       "    <tr>\n",
       "      <th>25%</th>\n",
       "      <td>4.000000</td>\n",
       "      <td>NaN</td>\n",
       "      <td>NaN</td>\n",
       "      <td>NaN</td>\n",
       "      <td>1.000000</td>\n",
       "      <td>NaN</td>\n",
       "    </tr>\n",
       "    <tr>\n",
       "      <th>50%</th>\n",
       "      <td>5.000000</td>\n",
       "      <td>NaN</td>\n",
       "      <td>NaN</td>\n",
       "      <td>NaN</td>\n",
       "      <td>1.000000</td>\n",
       "      <td>NaN</td>\n",
       "    </tr>\n",
       "    <tr>\n",
       "      <th>75%</th>\n",
       "      <td>5.000000</td>\n",
       "      <td>NaN</td>\n",
       "      <td>NaN</td>\n",
       "      <td>NaN</td>\n",
       "      <td>1.000000</td>\n",
       "      <td>NaN</td>\n",
       "    </tr>\n",
       "    <tr>\n",
       "      <th>max</th>\n",
       "      <td>5.000000</td>\n",
       "      <td>NaN</td>\n",
       "      <td>NaN</td>\n",
       "      <td>NaN</td>\n",
       "      <td>1.000000</td>\n",
       "      <td>NaN</td>\n",
       "    </tr>\n",
       "  </tbody>\n",
       "</table>\n",
       "</div>"
      ],
      "text/plain": [
       "             rating       date   variation verified_reviews     feedback  \\\n",
       "count   3150.000000       3150        3150             3150  3150.000000   \n",
       "unique          NaN         77          16             2301          NaN   \n",
       "top             NaN  30-Jul-18  Black  Dot                           NaN   \n",
       "freq            NaN       1603         516               79          NaN   \n",
       "mean       4.463175        NaN         NaN              NaN     0.918413   \n",
       "std        1.068506        NaN         NaN              NaN     0.273778   \n",
       "min        1.000000        NaN         NaN              NaN     0.000000   \n",
       "25%        4.000000        NaN         NaN              NaN     1.000000   \n",
       "50%        5.000000        NaN         NaN              NaN     1.000000   \n",
       "75%        5.000000        NaN         NaN              NaN     1.000000   \n",
       "max        5.000000        NaN         NaN              NaN     1.000000   \n",
       "\n",
       "       clean_reviews  \n",
       "count           3150  \n",
       "unique          2180  \n",
       "top                   \n",
       "freq              86  \n",
       "mean             NaN  \n",
       "std              NaN  \n",
       "min              NaN  \n",
       "25%              NaN  \n",
       "50%              NaN  \n",
       "75%              NaN  \n",
       "max              NaN  "
      ]
     },
     "execution_count": 8,
     "metadata": {},
     "output_type": "execute_result"
    }
   ],
   "source": [
    "data.describe(include=\"all\")"
   ]
  },
  {
   "cell_type": "code",
   "execution_count": 9,
   "metadata": {},
   "outputs": [
    {
     "data": {
      "text/html": [
       "<div>\n",
       "<style scoped>\n",
       "    .dataframe tbody tr th:only-of-type {\n",
       "        vertical-align: middle;\n",
       "    }\n",
       "\n",
       "    .dataframe tbody tr th {\n",
       "        vertical-align: top;\n",
       "    }\n",
       "\n",
       "    .dataframe thead th {\n",
       "        text-align: right;\n",
       "    }\n",
       "</style>\n",
       "<table border=\"1\" class=\"dataframe\">\n",
       "  <thead>\n",
       "    <tr style=\"text-align: right;\">\n",
       "      <th></th>\n",
       "      <th>rating</th>\n",
       "      <th>date</th>\n",
       "      <th>variation</th>\n",
       "      <th>verified_reviews</th>\n",
       "      <th>feedback</th>\n",
       "      <th>clean_reviews</th>\n",
       "    </tr>\n",
       "  </thead>\n",
       "  <tbody>\n",
       "    <tr>\n",
       "      <th>0</th>\n",
       "      <td>5</td>\n",
       "      <td>31-Jul-18</td>\n",
       "      <td>Charcoal Fabric</td>\n",
       "      <td>Love my Echo!</td>\n",
       "      <td>1</td>\n",
       "      <td>love echo</td>\n",
       "    </tr>\n",
       "    <tr>\n",
       "      <th>1</th>\n",
       "      <td>5</td>\n",
       "      <td>31-Jul-18</td>\n",
       "      <td>Charcoal Fabric</td>\n",
       "      <td>Loved it!</td>\n",
       "      <td>1</td>\n",
       "      <td>loved</td>\n",
       "    </tr>\n",
       "    <tr>\n",
       "      <th>2</th>\n",
       "      <td>4</td>\n",
       "      <td>31-Jul-18</td>\n",
       "      <td>Walnut Finish</td>\n",
       "      <td>Sometimes while playing a game, you can answer...</td>\n",
       "      <td>1</td>\n",
       "      <td>sometimes playing game answer question correct...</td>\n",
       "    </tr>\n",
       "    <tr>\n",
       "      <th>3</th>\n",
       "      <td>5</td>\n",
       "      <td>31-Jul-18</td>\n",
       "      <td>Charcoal Fabric</td>\n",
       "      <td>I have had a lot of fun with this thing. My 4 ...</td>\n",
       "      <td>1</td>\n",
       "      <td>lot fun thing old learns dinosaur control ligh...</td>\n",
       "    </tr>\n",
       "    <tr>\n",
       "      <th>4</th>\n",
       "      <td>5</td>\n",
       "      <td>31-Jul-18</td>\n",
       "      <td>Charcoal Fabric</td>\n",
       "      <td>Music</td>\n",
       "      <td>1</td>\n",
       "      <td>music</td>\n",
       "    </tr>\n",
       "  </tbody>\n",
       "</table>\n",
       "</div>"
      ],
      "text/plain": [
       "   rating       date         variation  \\\n",
       "0       5  31-Jul-18  Charcoal Fabric    \n",
       "1       5  31-Jul-18  Charcoal Fabric    \n",
       "2       4  31-Jul-18    Walnut Finish    \n",
       "3       5  31-Jul-18  Charcoal Fabric    \n",
       "4       5  31-Jul-18  Charcoal Fabric    \n",
       "\n",
       "                                    verified_reviews  feedback  \\\n",
       "0                                      Love my Echo!         1   \n",
       "1                                          Loved it!         1   \n",
       "2  Sometimes while playing a game, you can answer...         1   \n",
       "3  I have had a lot of fun with this thing. My 4 ...         1   \n",
       "4                                              Music         1   \n",
       "\n",
       "                                       clean_reviews  \n",
       "0                                          love echo  \n",
       "1                                              loved  \n",
       "2  sometimes playing game answer question correct...  \n",
       "3  lot fun thing old learns dinosaur control ligh...  \n",
       "4                                              music  "
      ]
     },
     "execution_count": 9,
     "metadata": {},
     "output_type": "execute_result"
    }
   ],
   "source": [
    "data.head()"
   ]
  },
  {
   "cell_type": "code",
   "execution_count": 10,
   "metadata": {},
   "outputs": [],
   "source": [
    "# # ----------- Representing data ---------------------\n",
    "\n",
    "# import seaborn as sns\n",
    "# sns.pairplot(data,hue='feedback')"
   ]
  },
  {
   "cell_type": "code",
   "execution_count": 11,
   "metadata": {},
   "outputs": [],
   "source": [
    "# from sklearn.feature_extraction.text import TfidfVectorizer\n",
    "# tfidf_v=TfidfVectorizer(max_features=1000,ngram_range=(1,2))\n",
    "# X=tfidf_v.fit_transform(data['clean_reviews']).toarray()"
   ]
  },
  {
   "cell_type": "code",
   "execution_count": 12,
   "metadata": {},
   "outputs": [],
   "source": [
    "# from sklearn.feature_extraction.text import CountVectorizer\n",
    "# vectorizer = CountVectorizer(max_features=2000)\n",
    "# X = vectorizer.fit_transform(data['clean_reviews'])#.toarray()\n",
    "# X.shape"
   ]
  },
  {
   "cell_type": "code",
   "execution_count": 13,
   "metadata": {},
   "outputs": [
    {
     "data": {
      "text/plain": [
       "30-Jul-18    1603\n",
       "29-Jul-18     482\n",
       "28-Jul-18     250\n",
       "26-Jul-18      85\n",
       "31-Jul-18      81\n",
       "Name: date, dtype: int64"
      ]
     },
     "execution_count": 13,
     "metadata": {},
     "output_type": "execute_result"
    }
   ],
   "source": [
    "# Representing highest perchase on date\n",
    "date = data['date'].value_counts()\n",
    "date.head()"
   ]
  },
  {
   "cell_type": "code",
   "execution_count": 14,
   "metadata": {},
   "outputs": [
    {
     "data": {
      "text/plain": [
       "1    2893\n",
       "0     257\n",
       "Name: feedback, dtype: int64"
      ]
     },
     "execution_count": 14,
     "metadata": {},
     "output_type": "execute_result"
    }
   ],
   "source": [
    "feed = data['feedback'].value_counts()\n",
    "feed.head()"
   ]
  },
  {
   "cell_type": "code",
   "execution_count": 15,
   "metadata": {},
   "outputs": [
    {
     "data": {
      "text/plain": [
       "<matplotlib.axes._subplots.AxesSubplot at 0x14cb1ce1610>"
      ]
     },
     "execution_count": 15,
     "metadata": {},
     "output_type": "execute_result"
    },
    {
     "data": {
      "image/png": "[encoded data removed]",
      "text/plain": [
       "<Figure size 1440x360 with 1 Axes>"
      ]
     },
     "metadata": {
      "needs_background": "light"
     },
     "output_type": "display_data"
    }
   ],
   "source": [
    "date.plot(kind='bar',figsize=(20,5))"
   ]
  },
  {
   "cell_type": "code",
   "execution_count": 16,
   "metadata": {},
   "outputs": [
    {
     "data": {
      "text/plain": [
       "5    2286\n",
       "4     455\n",
       "1     161\n",
       "3     152\n",
       "2      96\n",
       "Name: rating, dtype: int64"
      ]
     },
     "execution_count": 16,
     "metadata": {},
     "output_type": "execute_result"
    }
   ],
   "source": [
    "# Representing high rating\n",
    "rating = data['rating'].value_counts()\n",
    "rating.head()"
   ]
  },
  {
   "cell_type": "code",
   "execution_count": 17,
   "metadata": {},
   "outputs": [
    {
     "data": {
      "text/plain": [
       "<matplotlib.axes._subplots.AxesSubplot at 0x14cb27e4cd0>"
      ]
     },
     "execution_count": 17,
     "metadata": {},
     "output_type": "execute_result"
    },
    {
     "data": {
      "image/png": "[encoded data removed]",
      "text/plain": [
       "<Figure size 432x288 with 1 Axes>"
      ]
     },
     "metadata": {
      "needs_background": "light"
     },
     "output_type": "display_data"
    }
   ],
   "source": [
    "rating.plot(kind='bar')"
   ]
  },
  {
   "cell_type": "code",
   "execution_count": 21,
   "metadata": {},
   "outputs": [
    {
     "data": {
      "text/plain": [
       "(3150, 2000)"
      ]
     },
     "execution_count": 21,
     "metadata": {},
     "output_type": "execute_result"
    }
   ],
   "source": [
    "# Getting bag of words on in reviews\n",
    "from sklearn.feature_extraction.text import CountVectorizer\n",
    "vectorizer = CountVectorizer(max_features=2000)\n",
    "X = vectorizer.fit_transform(data['clean_reviews'],data['rating']).toarray() #getting array of Bag of Words\n",
    "X.shape"
   ]
  },
  {
   "cell_type": "code",
   "execution_count": 22,
   "metadata": {},
   "outputs": [
    {
     "data": {
      "text/plain": [
       "array([[0, 0, 0, ..., 0, 0, 0],\n",
       "       [0, 0, 0, ..., 0, 0, 0],\n",
       "       [0, 0, 0, ..., 0, 0, 0],\n",
       "       ...,\n",
       "       [0, 0, 0, ..., 0, 0, 0],\n",
       "       [0, 0, 0, ..., 0, 0, 0],\n",
       "       [0, 0, 0, ..., 0, 0, 0]], dtype=int64)"
      ]
     },
     "execution_count": 22,
     "metadata": {},
     "output_type": "execute_result"
    }
   ],
   "source": [
    "X\n"
   ]
  },
  {
   "cell_type": "code",
   "execution_count": 23,
   "metadata": {},
   "outputs": [],
   "source": [
    "y=pd.get_dummies(data['feedback']) #get_dummies --> it used for categorical variable into a series of zeros and ones\n",
    "y=y.iloc[:,1].values #getting value of second column"
   ]
  },
  {
   "cell_type": "code",
   "execution_count": 24,
   "metadata": {},
   "outputs": [],
   "source": [
    "# y = data['feedback']"
   ]
  },
  {
   "cell_type": "code",
   "execution_count": 25,
   "metadata": {},
   "outputs": [
    {
     "data": {
      "text/plain": [
       "array([1, 1, 1, ..., 1, 1, 1], dtype=uint8)"
      ]
     },
     "execution_count": 25,
     "metadata": {},
     "output_type": "execute_result"
    }
   ],
   "source": [
    "y"
   ]
  },
  {
   "cell_type": "code",
   "execution_count": 26,
   "metadata": {},
   "outputs": [],
   "source": [
    "from sklearn.model_selection import train_test_split      #deviding data into training and test data set\n",
    "X_train, X_test, y_train, y_test = train_test_split(X, y, test_size = 0.20, random_state = 0)\n",
    "\n",
    "# X_train -> Taking dataset for training \n",
    "# X_test  -> Taking dataset for testing\n",
    "# y_train -> output(target data) for training\n",
    "# y_test  -> output(target data) for testing\n",
    "# test_size -> The ideal split is said to be 80:20 for training and testing.\n",
    "#              for our need we adjust it depending on the size of the dataset and parameter complexity.\n",
    "\n",
    "# random_state -> random state value present the state of suffle data in train and test split"
   ]
  },
  {
   "cell_type": "code",
   "execution_count": 27,
   "metadata": {},
   "outputs": [
    {
     "name": "stdout",
     "output_type": "stream",
     "text": [
      "[[0 0 0 ... 0 0 0]\n",
      " [0 0 0 ... 0 0 0]\n",
      " [0 0 0 ... 0 0 0]\n",
      " ...\n",
      " [0 0 0 ... 0 0 0]\n",
      " [0 0 0 ... 0 0 0]\n",
      " [0 0 0 ... 0 0 0]]\n"
     ]
    },
    {
     "data": {
      "text/plain": [
       "(2520, 2000)"
      ]
     },
     "execution_count": 27,
     "metadata": {},
     "output_type": "execute_result"
    }
   ],
   "source": [
    "print(X_train)\n",
    "X_train.shape"
   ]
  },
  {
   "cell_type": "code",
   "execution_count": 28,
   "metadata": {},
   "outputs": [
    {
     "name": "stdout",
     "output_type": "stream",
     "text": [
      "[[0 0 0 ... 0 0 0]\n",
      " [0 0 0 ... 0 0 0]\n",
      " [0 0 0 ... 0 0 0]\n",
      " ...\n",
      " [0 0 0 ... 0 0 0]\n",
      " [0 0 0 ... 0 0 0]\n",
      " [0 0 0 ... 0 0 0]]\n"
     ]
    },
    {
     "data": {
      "text/plain": [
       "(630, 2000)"
      ]
     },
     "execution_count": 28,
     "metadata": {},
     "output_type": "execute_result"
    }
   ],
   "source": [
    "print(X_test)\n",
    "X_test.shape"
   ]
  },
  {
   "cell_type": "code",
   "execution_count": 29,
   "metadata": {},
   "outputs": [
    {
     "name": "stdout",
     "output_type": "stream",
     "text": [
      "[1 1 1 ... 1 1 1]\n"
     ]
    },
    {
     "data": {
      "text/plain": [
       "(2520,)"
      ]
     },
     "execution_count": 29,
     "metadata": {},
     "output_type": "execute_result"
    }
   ],
   "source": [
    "print(y_train)\n",
    "y_train.shape"
   ]
  },
  {
   "cell_type": "code",
   "execution_count": 30,
   "metadata": {},
   "outputs": [
    {
     "name": "stdout",
     "output_type": "stream",
     "text": [
      "[1 1 1 1 1 0 1 1 1 1 1 1 0 1 0 1 1 1 1 1 1 1 1 1 1 1 1 1 1 1 1 1 1 1 1 1 1\n",
      " 1 1 1 1 1 1 1 1 1 1 1 1 1 1 1 0 1 0 1 1 1 0 1 1 1 1 1 1 1 1 1 1 0 1 1 1 1\n",
      " 1 1 1 1 0 1 0 1 1 1 1 1 1 1 1 1 1 0 1 1 1 1 1 1 1 0 1 1 1 1 1 1 1 1 1 1 1\n",
      " 0 1 1 1 1 1 1 1 1 1 1 1 1 1 0 1 1 1 1 1 1 1 0 1 1 0 1 1 1 1 1 1 1 1 1 1 0\n",
      " 1 0 1 1 1 1 1 1 1 1 1 1 1 0 0 1 1 1 1 1 1 1 1 1 1 1 1 1 1 1 1 1 1 1 0 1 1\n",
      " 1 1 1 1 1 1 1 1 1 1 1 1 1 1 1 1 1 1 1 1 1 1 1 1 1 1 1 1 1 1 1 1 1 1 1 1 1\n",
      " 1 1 1 1 1 1 1 1 1 1 0 1 1 1 1 1 1 1 0 1 1 1 1 1 1 1 1 1 1 1 1 1 1 1 1 1 1\n",
      " 1 1 1 1 1 1 0 1 1 1 1 1 1 1 1 1 1 1 1 1 1 1 1 1 1 1 1 1 1 1 0 1 1 1 1 1 1\n",
      " 1 1 1 0 1 1 1 1 1 1 1 1 1 1 0 1 1 1 1 1 1 1 1 1 1 1 1 1 1 1 1 0 1 1 1 1 1\n",
      " 1 1 1 1 1 1 0 1 1 1 1 1 1 0 1 0 1 1 1 1 1 1 1 1 0 1 1 0 1 1 1 1 1 1 1 1 1\n",
      " 1 1 1 1 1 0 1 1 0 1 1 1 1 1 1 1 0 0 1 1 1 1 1 1 1 1 1 1 1 1 1 1 1 1 1 1 1\n",
      " 1 1 0 0 1 1 1 1 1 1 1 1 1 1 1 1 1 1 1 1 1 1 1 1 1 1 1 1 1 1 0 1 1 1 1 1 1\n",
      " 1 0 0 1 1 1 1 1 1 1 1 1 1 1 1 1 1 0 0 1 1 1 1 1 1 1 1 1 1 1 1 1 0 1 1 1 1\n",
      " 1 1 1 0 1 1 1 1 1 1 1 1 1 1 1 1 1 1 1 1 1 1 1 1 1 1 1 1 1 1 1 1 1 1 1 1 1\n",
      " 1 1 1 1 1 1 1 1 1 1 1 1 1 0 1 1 1 1 1 0 1 1 1 1 1 1 1 1 1 1 1 1 1 1 1 1 1\n",
      " 1 0 1 1 1 1 1 1 1 1 1 1 1 1 1 1 1 1 1 1 1 1 0 1 1 1 1 1 1 1 1 1 1 1 1 0 1\n",
      " 1 1 1 0 0 1 1 1 1 1 1 0 1 1 1 1 1 1 1 1 1 1 1 1 0 1 1 1 1 1 1 1 1 1 1 1 1\n",
      " 1]\n"
     ]
    },
    {
     "data": {
      "text/plain": [
       "(630,)"
      ]
     },
     "execution_count": 30,
     "metadata": {},
     "output_type": "execute_result"
    }
   ],
   "source": [
    "print(y_test)\n",
    "y_test.shape"
   ]
  },
  {
   "cell_type": "markdown",
   "metadata": {},
   "source": [
    "# # --------- Model Selection -----------"
   ]
  },
  {
   "cell_type": "code",
   "execution_count": 31,
   "metadata": {},
   "outputs": [],
   "source": [
    "# Importing library\n",
    "from sklearn import metrics\n",
    "from sklearn.metrics import accuracy_score, classification_report, confusion_matrix"
   ]
  },
  {
   "cell_type": "markdown",
   "metadata": {},
   "source": [
    "---------------- Using model Logistic regression ------------------"
   ]
  },
  {
   "cell_type": "code",
   "execution_count": 36,
   "metadata": {},
   "outputs": [
    {
     "name": "stdout",
     "output_type": "stream",
     "text": [
      "Logistic Regression Accuracy :   0.94\n",
      "Confussion Metrics :  \n",
      " [[ 21  33]\n",
      " [  5 571]]\n",
      "Classification Report :  \n",
      "               precision    recall  f1-score   support\n",
      "\n",
      "           0       0.81      0.39      0.53        54\n",
      "           1       0.95      0.99      0.97       576\n",
      "\n",
      "    accuracy                           0.94       630\n",
      "   macro avg       0.88      0.69      0.75       630\n",
      "weighted avg       0.93      0.94      0.93       630\n",
      "\n"
     ]
    }
   ],
   "source": [
    "#Using model Logistic regression\n",
    "from sklearn import linear_model\n",
    "logistic = linear_model.LogisticRegression()\n",
    "logistic.fit(X_train, y_train)    #fitting training data in model\n",
    "pred_logistic = logistic.predict(X_test)  #getting predict value on test data\n",
    "\n",
    "score = logistic.score(X_test, y_test) #getting accuracy on predict and real data\n",
    "cm = confusion_matrix(y_test, pred_logistic)  #generating confussion metrics\n",
    "cr1 = classification_report(y_test, pred_logistic)  #generating classification report\n",
    "\n",
    "print(\"Logistic Regression Accuracy :   %0.2f\" % score)\n",
    "print(\"Confussion Metrics : \",\"\\n\",cm)\n",
    "print(\"Classification Report : \",\"\\n\",cr1)"
   ]
  },
  {
   "cell_type": "markdown",
   "metadata": {},
   "source": [
    "---------------- MultinomialNB Classifier ----------------\n"
   ]
  },
  {
   "cell_type": "code",
   "execution_count": 32,
   "metadata": {},
   "outputs": [
    {
     "name": "stdout",
     "output_type": "stream",
     "text": [
      "MultinomialNB Classifier Accuracy :   0.95\n",
      "Confussion Metrics :  \n",
      " [[ 28  26]\n",
      " [  6 570]]\n",
      "Classification Report :  \n",
      "               precision    recall  f1-score   support\n",
      "\n",
      "           0       0.82      0.52      0.64        54\n",
      "           1       0.96      0.99      0.97       576\n",
      "\n",
      "    accuracy                           0.95       630\n",
      "   macro avg       0.89      0.75      0.80       630\n",
      "weighted avg       0.94      0.95      0.94       630\n",
      "\n"
     ]
    }
   ],
   "source": [
    "from sklearn.naive_bayes import MultinomialNB\n",
    "classifier=MultinomialNB()  \n",
    "classifier.fit(X_train, y_train)  #fitting training data in model\n",
    "\n",
    "pred_m = classifier.predict(X_test)  #getting predict value on test data\n",
    "score = metrics.accuracy_score(y_test, pred_m)  #getting accuracy on predict and real data\n",
    "cm = metrics.confusion_matrix(y_test, pred_m)   #generating confussion metrics\n",
    "cr2 = classification_report(y_test, pred_m)  #generating classification report\n",
    "\n",
    "print(\"MultinomialNB Classifier Accuracy :   %0.2f\" % score)\n",
    "print(\"Confussion Metrics : \",\"\\n\",cm)\n",
    "print(\"Classification Report : \",\"\\n\",cr2)"
   ]
  },
  {
   "cell_type": "markdown",
   "metadata": {},
   "source": [
    "------------- KNeighbors Classifier ---------------"
   ]
  },
  {
   "cell_type": "code",
   "execution_count": 33,
   "metadata": {},
   "outputs": [
    {
     "name": "stdout",
     "output_type": "stream",
     "text": [
      "KNN Classifier Accuracy :   0.91\n",
      "Confussion Metrics :  \n",
      " [[  0  54]\n",
      " [  5 571]]\n",
      "Classification Report :  \n",
      "               precision    recall  f1-score   support\n",
      "\n",
      "           0       0.00      0.00      0.00        54\n",
      "           1       0.91      0.99      0.95       576\n",
      "\n",
      "    accuracy                           0.91       630\n",
      "   macro avg       0.46      0.50      0.48       630\n",
      "weighted avg       0.84      0.91      0.87       630\n",
      "\n"
     ]
    }
   ],
   "source": [
    "from sklearn import neighbors\n",
    "knn = neighbors.KNeighborsClassifier()\n",
    "knn.fit(X_train, y_train)  #fitting training data in model\n",
    "\n",
    "pred_knn = knn.predict(X_test)  #getting predict value on test data\n",
    "score = metrics.accuracy_score(y_test, pred_knn) #getting accuracy on predict and real data\n",
    "cm = metrics.confusion_matrix(y_test, pred_knn)\n",
    "cr3 = classification_report(y_test, pred_knn)\n",
    "\n",
    "print(\"KNN Classifier Accuracy :   %0.2f\" % score)\n",
    "print(\"Confussion Metrics : \",\"\\n\",cm)\n",
    "print(\"Classification Report : \",\"\\n\",cr3)"
   ]
  },
  {
   "cell_type": "code",
   "execution_count": null,
   "metadata": {},
   "outputs": [],
   "source": []
  }
 ],
 "metadata": {
  "kernelspec": {
   "display_name": "Python 3",
   "language": "python",
   "name": "python3"
  },
  "language_info": {
   "codemirror_mode": {
    "name": "ipython",
    "version": 3
   },
   "file_extension": ".py",
   "mimetype": "text/x-python",
   "name": "python",
   "nbconvert_exporter": "python",
   "pygments_lexer": "ipython3",
   "version": "3.8.5"
  }
 },
 "nbformat": 4,
 "nbformat_minor": 4
}
